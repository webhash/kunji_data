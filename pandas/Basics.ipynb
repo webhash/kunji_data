{
 "cells": [
  {
   "cell_type": "code",
   "execution_count": 41,
   "metadata": {},
   "outputs": [],
   "source": [
    "import numpy as np\n",
    "import pandas as pd\n",
    "\n"
   ]
  },
  {
   "cell_type": "code",
   "execution_count": 42,
   "metadata": {},
   "outputs": [
    {
     "data": {
      "text/plain": [
       "0    11\n",
       "1    12\n",
       "2    31\n",
       "3    41\n",
       "4    15\n",
       "5    61\n",
       "6    17\n",
       "7    80\n",
       "dtype: int64"
      ]
     },
     "execution_count": 42,
     "metadata": {},
     "output_type": "execute_result"
    }
   ],
   "source": [
    "# lets first have a quick look at series\n",
    "# series is like an array but is indexed\n",
    "\n",
    "s = pd.Series([11,12,31,41,15,61,17,80])\n",
    "s"
   ]
  },
  {
   "cell_type": "code",
   "execution_count": 43,
   "metadata": {},
   "outputs": [
    {
     "data": {
      "text/plain": [
       "array([11, 12, 31, 41, 15, 61, 17, 80], dtype=int64)"
      ]
     },
     "execution_count": 43,
     "metadata": {},
     "output_type": "execute_result"
    }
   ],
   "source": [
    "#we can get the values\n",
    "s.values"
   ]
  },
  {
   "cell_type": "code",
   "execution_count": 44,
   "metadata": {},
   "outputs": [
    {
     "data": {
      "text/plain": [
       "RangeIndex(start=0, stop=8, step=1)"
      ]
     },
     "execution_count": 44,
     "metadata": {},
     "output_type": "execute_result"
    }
   ],
   "source": [
    "#we can get the indexs\n",
    "s.index"
   ]
  },
  {
   "cell_type": "code",
   "execution_count": 45,
   "metadata": {},
   "outputs": [
    {
     "data": {
      "text/plain": [
       "dtype('int64')"
      ]
     },
     "execution_count": 45,
     "metadata": {},
     "output_type": "execute_result"
    }
   ],
   "source": [
    "#we can determine the type of data\n",
    "s.dtype"
   ]
  },
  {
   "cell_type": "code",
   "execution_count": 46,
   "metadata": {},
   "outputs": [
    {
     "data": {
      "text/plain": [
       "8"
      ]
     },
     "execution_count": 46,
     "metadata": {},
     "output_type": "execute_result"
    }
   ],
   "source": [
    "#we can determine the size of data\n",
    "s.size"
   ]
  },
  {
   "cell_type": "code",
   "execution_count": 47,
   "metadata": {},
   "outputs": [
    {
     "data": {
      "text/plain": [
       "(8,)"
      ]
     },
     "execution_count": 47,
     "metadata": {},
     "output_type": "execute_result"
    }
   ],
   "source": [
    "#we can get the shape of the data\n",
    "s.shape"
   ]
  },
  {
   "cell_type": "code",
   "execution_count": 48,
   "metadata": {},
   "outputs": [
    {
     "data": {
      "text/plain": [
       "64"
      ]
     },
     "execution_count": 48,
     "metadata": {},
     "output_type": "execute_result"
    }
   ],
   "source": [
    "#we can get the number of bytes used to store the data \n",
    "s.nbytes"
   ]
  },
  {
   "cell_type": "code",
   "execution_count": 49,
   "metadata": {},
   "outputs": [
    {
     "data": {
      "text/plain": [
       "61"
      ]
     },
     "execution_count": 49,
     "metadata": {},
     "output_type": "execute_result"
    }
   ],
   "source": [
    "# we can use the index to access the values \n",
    "s[5]"
   ]
  },
  {
   "cell_type": "code",
   "execution_count": 50,
   "metadata": {},
   "outputs": [
    {
     "data": {
      "text/plain": [
       "3    41\n",
       "5    61\n",
       "7    80\n",
       "dtype: int64"
      ]
     },
     "execution_count": 50,
     "metadata": {},
     "output_type": "execute_result"
    }
   ],
   "source": [
    "# we can also get values based on conditions\n",
    "s[s > 40]"
   ]
  },
  {
   "cell_type": "code",
   "execution_count": 51,
   "metadata": {},
   "outputs": [
    {
     "data": {
      "text/plain": [
       "usa    10.30\n",
       "ind     8.64\n",
       "bra     5.70\n",
       "frc     1.83\n",
       "rus     1.82\n",
       "dtype: float64"
      ]
     },
     "execution_count": 51,
     "metadata": {},
     "output_type": "execute_result"
    }
   ],
   "source": [
    "# we can use our own indexes rather than using the default index values\n",
    "# here is the number of cases in million and respective countries as index\n",
    "cd = pd.Series([10.3, 8.64, 5.7, 1.83, 1.82], index=['usa','ind','bra','frc','rus'])\n",
    "cd"
   ]
  },
  {
   "cell_type": "code",
   "execution_count": 52,
   "metadata": {},
   "outputs": [
    {
     "data": {
      "text/plain": [
       "countries\n",
       "usa    10.30\n",
       "ind     8.64\n",
       "bra     5.70\n",
       "frc     1.83\n",
       "rus     1.82\n",
       "Name: covid_cases, dtype: float64"
      ]
     },
     "execution_count": 52,
     "metadata": {},
     "output_type": "execute_result"
    }
   ],
   "source": [
    "# we can name our series \n",
    "cd.name = 'covid_cases'\n",
    "# we can also name the index\n",
    "cd.index.name = 'countries'\n",
    "cd"
   ]
  },
  {
   "cell_type": "code",
   "execution_count": 53,
   "metadata": {},
   "outputs": [
    {
     "data": {
      "text/plain": [
       "Index(['usa', 'ind', 'bra', 'frc', 'rus'], dtype='object', name='countries')"
      ]
     },
     "execution_count": 53,
     "metadata": {},
     "output_type": "execute_result"
    }
   ],
   "source": [
    "index_p = cd.index\n",
    "index_p"
   ]
  },
  {
   "cell_type": "code",
   "execution_count": 54,
   "metadata": {},
   "outputs": [
    {
     "data": {
      "text/plain": [
       "True"
      ]
     },
     "execution_count": 54,
     "metadata": {},
     "output_type": "execute_result"
    }
   ],
   "source": [
    "# we can check if a key exist in series like we do in dict\n",
    "'ind' in cd"
   ]
  },
  {
   "cell_type": "code",
   "execution_count": 55,
   "metadata": {},
   "outputs": [
    {
     "data": {
      "text/plain": [
       "8.64"
      ]
     },
     "execution_count": 55,
     "metadata": {},
     "output_type": "execute_result"
    }
   ],
   "source": [
    "# same is applicable for user defined index\n",
    "cd['ind']"
   ]
  },
  {
   "cell_type": "code",
   "execution_count": 56,
   "metadata": {},
   "outputs": [
    {
     "data": {
      "text/plain": [
       "'bra'"
      ]
     },
     "execution_count": 56,
     "metadata": {},
     "output_type": "execute_result"
    }
   ],
   "source": [
    "#we can get indexes\n",
    "index_p[2]"
   ]
  },
  {
   "cell_type": "code",
   "execution_count": 57,
   "metadata": {},
   "outputs": [
    {
     "data": {
      "text/plain": [
       "Index(['usa', 'ind'], dtype='object', name='countries')"
      ]
     },
     "execution_count": 57,
     "metadata": {},
     "output_type": "execute_result"
    }
   ],
   "source": [
    "index_p[:2]"
   ]
  },
  {
   "cell_type": "code",
   "execution_count": 58,
   "metadata": {},
   "outputs": [
    {
     "data": {
      "text/plain": [
       "countries\n",
       "usa    10.30\n",
       "ind     8.64\n",
       "frc     1.83\n",
       "rus     1.82\n",
       "esp      NaN\n",
       "Name: covid_cases, dtype: float64"
      ]
     },
     "execution_count": 58,
     "metadata": {},
     "output_type": "execute_result"
    }
   ],
   "source": [
    "# index are immitable and can't be changed directly \n",
    "# we need to use reindex if we want to change them \n",
    "# if new index is added we shall NaN\n",
    "ncd = cd.reindex(['usa','ind','frc', 'rus', 'esp'])\n",
    "ncd"
   ]
  },
  {
   "cell_type": "code",
   "execution_count": 59,
   "metadata": {},
   "outputs": [
    {
     "data": {
      "text/plain": [
       "countries\n",
       "usa    10.3\n",
       "ind    8.64\n",
       "frc    1.83\n",
       "rus    1.82\n",
       "esp       0\n",
       "Name: covid_cases, dtype: object"
      ]
     },
     "execution_count": 59,
     "metadata": {},
     "output_type": "execute_result"
    }
   ],
   "source": [
    "# we can use fill_value to specify the default falue if index is not already present\n",
    "ncd = cd.reindex(['usa','ind','frc', 'rus', 'esp'], fill_value='0')\n",
    "ncd"
   ]
  },
  {
   "cell_type": "code",
   "execution_count": 60,
   "metadata": {},
   "outputs": [
    {
     "data": {
      "text/plain": [
       "{'usa': 10.3, 'ind': 8.64, 'bra': 5.7, 'frc': 1.83, 'rus': 1.82}"
      ]
     },
     "execution_count": 60,
     "metadata": {},
     "output_type": "execute_result"
    }
   ],
   "source": [
    "#we can convert the series to a python dict \n",
    "pcd = cd.to_dict()\n",
    "pcd"
   ]
  },
  {
   "cell_type": "code",
   "execution_count": 61,
   "metadata": {},
   "outputs": [
    {
     "data": {
      "text/plain": [
       "{'usa': 10.3, 'ind': 8.64, 'bra': 5.7, 'frc': 1.83, 'rus': 1.82}"
      ]
     },
     "execution_count": 61,
     "metadata": {},
     "output_type": "execute_result"
    }
   ],
   "source": [
    "#we can pass a dict to series to create a series\n",
    "bcd = pd.Series(pcd)\n",
    "pcd"
   ]
  },
  {
   "cell_type": "code",
   "execution_count": 62,
   "metadata": {},
   "outputs": [
    {
     "data": {
      "text/plain": [
       "usa    10.30\n",
       "ind     8.64\n",
       "bra     5.70\n",
       "frc     1.83\n",
       "rus     1.82\n",
       "esp      NaN\n",
       "dtype: float64"
      ]
     },
     "execution_count": 62,
     "metadata": {},
     "output_type": "execute_result"
    }
   ],
   "source": [
    "# we can also specify our own index/keys while passing the dict\n",
    "nbcd = pd.Series(pcd, index=['usa','ind','bra','frc','rus','esp'])\n",
    "nbcd"
   ]
  },
  {
   "cell_type": "code",
   "execution_count": 63,
   "metadata": {},
   "outputs": [
    {
     "data": {
      "text/plain": [
       "usa    False\n",
       "ind    False\n",
       "bra    False\n",
       "frc    False\n",
       "rus    False\n",
       "esp     True\n",
       "dtype: bool"
      ]
     },
     "execution_count": 63,
     "metadata": {},
     "output_type": "execute_result"
    }
   ],
   "source": [
    "# as esp or spain was not part of the dict already we got a new key with NaN value\n",
    "# we can check if we have null values in our series\n",
    "pd.isnull(nbcd)"
   ]
  },
  {
   "cell_type": "code",
   "execution_count": 64,
   "metadata": {},
   "outputs": [
    {
     "data": {
      "text/plain": [
       "usa     True\n",
       "ind     True\n",
       "bra     True\n",
       "frc     True\n",
       "rus     True\n",
       "esp    False\n",
       "dtype: bool"
      ]
     },
     "execution_count": 64,
     "metadata": {},
     "output_type": "execute_result"
    }
   ],
   "source": [
    "# we can also use notnull to check what all values are not null in the series\n",
    "pd.notnull(nbcd)"
   ]
  },
  {
   "cell_type": "code",
   "execution_count": null,
   "metadata": {},
   "outputs": [],
   "source": []
  },
  {
   "cell_type": "code",
   "execution_count": 65,
   "metadata": {},
   "outputs": [
    {
     "data": {
      "text/html": [
       "<div>\n",
       "<style scoped>\n",
       "    .dataframe tbody tr th:only-of-type {\n",
       "        vertical-align: middle;\n",
       "    }\n",
       "\n",
       "    .dataframe tbody tr th {\n",
       "        vertical-align: top;\n",
       "    }\n",
       "\n",
       "    .dataframe thead th {\n",
       "        text-align: right;\n",
       "    }\n",
       "</style>\n",
       "<table border=\"1\" class=\"dataframe\">\n",
       "  <thead>\n",
       "    <tr style=\"text-align: right;\">\n",
       "      <th></th>\n",
       "      <th>year</th>\n",
       "      <th>batsman</th>\n",
       "      <th>batsman country</th>\n",
       "      <th>bowler</th>\n",
       "      <th>bowler country</th>\n",
       "    </tr>\n",
       "  </thead>\n",
       "  <tbody>\n",
       "    <tr>\n",
       "      <th>0</th>\n",
       "      <td>2019</td>\n",
       "      <td>virat kohli</td>\n",
       "      <td>india</td>\n",
       "      <td>Pat Cummins</td>\n",
       "      <td>australia</td>\n",
       "    </tr>\n",
       "    <tr>\n",
       "      <th>1</th>\n",
       "      <td>2018</td>\n",
       "      <td>virat kohli</td>\n",
       "      <td>india</td>\n",
       "      <td>Kagiso Rabada</td>\n",
       "      <td>South Africa</td>\n",
       "    </tr>\n",
       "    <tr>\n",
       "      <th>2</th>\n",
       "      <td>2017</td>\n",
       "      <td>steve smith</td>\n",
       "      <td>australia</td>\n",
       "      <td>James Anderson</td>\n",
       "      <td>England</td>\n",
       "    </tr>\n",
       "    <tr>\n",
       "      <th>3</th>\n",
       "      <td>2016</td>\n",
       "      <td>steve smith</td>\n",
       "      <td>australia</td>\n",
       "      <td>James Anderson</td>\n",
       "      <td>India</td>\n",
       "    </tr>\n",
       "    <tr>\n",
       "      <th>4</th>\n",
       "      <td>2015</td>\n",
       "      <td>steve smith</td>\n",
       "      <td>australia</td>\n",
       "      <td>Ravichandran Ashwin</td>\n",
       "      <td>India</td>\n",
       "    </tr>\n",
       "  </tbody>\n",
       "</table>\n",
       "</div>"
      ],
      "text/plain": [
       "   year      batsman batsman country               bowler bowler country\n",
       "0  2019  virat kohli           india          Pat Cummins      australia\n",
       "1  2018  virat kohli           india        Kagiso Rabada   South Africa\n",
       "2  2017  steve smith       australia       James Anderson        England\n",
       "3  2016  steve smith       australia       James Anderson          India\n",
       "4  2015  steve smith       australia  Ravichandran Ashwin          India"
      ]
     },
     "execution_count": 65,
     "metadata": {},
     "output_type": "execute_result"
    }
   ],
   "source": [
    "# lets first have a quick look at dataframe\n",
    "rank_dict = { \\\n",
    "             'year' : [2019,2018,2017,2016,2015], \\\n",
    "             'batsman':['virat kohli', 'virat kohli', 'steve smith', 'steve smith', 'steve smith' ],\\\n",
    "             'batsman country': ['india', 'india', 'australia', 'australia', 'australia'],\\\n",
    "             'bowler': ['Pat Cummins', 'Kagiso Rabada', 'James Anderson', 'James Anderson', 'Ravichandran Ashwin' ],\\\n",
    "            'bowler country':['australia', 'South Africa', 'England', 'India', 'India' ]\\\n",
    "            }\n",
    "# we can pass a dict that contains key as the coloum name and list as the respective values \n",
    "icc_ranking = pd.DataFrame(rank_dict)\n",
    "icc_ranking"
   ]
  },
  {
   "cell_type": "code",
   "execution_count": 66,
   "metadata": {},
   "outputs": [
    {
     "data": {
      "text/plain": [
       "Index(['year', 'batsman', 'batsman country', 'bowler', 'bowler country'], dtype='object')"
      ]
     },
     "execution_count": 66,
     "metadata": {},
     "output_type": "execute_result"
    }
   ],
   "source": [
    "# pandas automatically adds the indexes as shown above\n",
    "# we can get the coloum names of the dataframe \n",
    "icc_ranking.columns"
   ]
  },
  {
   "cell_type": "code",
   "execution_count": 67,
   "metadata": {},
   "outputs": [
    {
     "data": {
      "text/plain": [
       "0    2019\n",
       "1    2018\n",
       "2    2017\n",
       "3    2016\n",
       "4    2015\n",
       "Name: year, dtype: int64"
      ]
     },
     "execution_count": 67,
     "metadata": {},
     "output_type": "execute_result"
    }
   ],
   "source": [
    "# we can use the coloum names to get the data \n",
    "icc_ranking.year"
   ]
  },
  {
   "cell_type": "code",
   "execution_count": 68,
   "metadata": {},
   "outputs": [
    {
     "data": {
      "text/plain": [
       "0    virat kohli\n",
       "1    virat kohli\n",
       "2    steve smith\n",
       "3    steve smith\n",
       "4    steve smith\n",
       "Name: batsman, dtype: object"
      ]
     },
     "execution_count": 68,
     "metadata": {},
     "output_type": "execute_result"
    }
   ],
   "source": [
    "icc_ranking.batsman"
   ]
  },
  {
   "cell_type": "code",
   "execution_count": 69,
   "metadata": {},
   "outputs": [
    {
     "data": {
      "text/plain": [
       "0            Pat Cummins\n",
       "1          Kagiso Rabada\n",
       "2         James Anderson\n",
       "3         James Anderson\n",
       "4    Ravichandran Ashwin\n",
       "Name: bowler, dtype: object"
      ]
     },
     "execution_count": 69,
     "metadata": {},
     "output_type": "execute_result"
    }
   ],
   "source": [
    "# we can also use the index approach to get the index\n",
    "icc_ranking['bowler']"
   ]
  },
  {
   "cell_type": "code",
   "execution_count": 70,
   "metadata": {},
   "outputs": [
    {
     "data": {
      "text/plain": [
       "0       australia\n",
       "1    South Africa\n",
       "2         England\n",
       "3           India\n",
       "4           India\n",
       "Name: bowler country, dtype: object"
      ]
     },
     "execution_count": 70,
     "metadata": {},
     "output_type": "execute_result"
    }
   ],
   "source": [
    "# for column name that has the spaces in middle we have to use the index approach \n",
    "icc_ranking['bowler country']"
   ]
  },
  {
   "cell_type": "code",
   "execution_count": 71,
   "metadata": {},
   "outputs": [
    {
     "data": {
      "text/plain": [
       "0        india\n",
       "1        india\n",
       "2    australia\n",
       "3    australia\n",
       "4    australia\n",
       "Name: batsman country, dtype: object"
      ]
     },
     "execution_count": 71,
     "metadata": {},
     "output_type": "execute_result"
    }
   ],
   "source": [
    "icc_ranking['batsman country']"
   ]
  },
  {
   "cell_type": "code",
   "execution_count": 72,
   "metadata": {},
   "outputs": [
    {
     "data": {
      "text/html": [
       "<div>\n",
       "<style scoped>\n",
       "    .dataframe tbody tr th:only-of-type {\n",
       "        vertical-align: middle;\n",
       "    }\n",
       "\n",
       "    .dataframe tbody tr th {\n",
       "        vertical-align: top;\n",
       "    }\n",
       "\n",
       "    .dataframe thead th {\n",
       "        text-align: right;\n",
       "    }\n",
       "</style>\n",
       "<table border=\"1\" class=\"dataframe\">\n",
       "  <thead>\n",
       "    <tr style=\"text-align: right;\">\n",
       "      <th></th>\n",
       "      <th>year</th>\n",
       "      <th>batsman</th>\n",
       "      <th>batsman country</th>\n",
       "      <th>bowler</th>\n",
       "      <th>bowler country</th>\n",
       "    </tr>\n",
       "  </thead>\n",
       "  <tbody>\n",
       "    <tr>\n",
       "      <th>0</th>\n",
       "      <td>2019</td>\n",
       "      <td>virat kohli</td>\n",
       "      <td>india</td>\n",
       "      <td>Pat Cummins</td>\n",
       "      <td>australia</td>\n",
       "    </tr>\n",
       "    <tr>\n",
       "      <th>1</th>\n",
       "      <td>2018</td>\n",
       "      <td>virat kohli</td>\n",
       "      <td>india</td>\n",
       "      <td>Kagiso Rabada</td>\n",
       "      <td>South Africa</td>\n",
       "    </tr>\n",
       "  </tbody>\n",
       "</table>\n",
       "</div>"
      ],
      "text/plain": [
       "   year      batsman batsman country         bowler bowler country\n",
       "0  2019  virat kohli           india    Pat Cummins      australia\n",
       "1  2018  virat kohli           india  Kagiso Rabada   South Africa"
      ]
     },
     "execution_count": 72,
     "metadata": {},
     "output_type": "execute_result"
    }
   ],
   "source": [
    "# we can also retrive some values from dataframe \n",
    "# in this case 2 values from the start\n",
    "icc_ranking.head(2)"
   ]
  },
  {
   "cell_type": "code",
   "execution_count": 73,
   "metadata": {},
   "outputs": [
    {
     "data": {
      "text/html": [
       "<div>\n",
       "<style scoped>\n",
       "    .dataframe tbody tr th:only-of-type {\n",
       "        vertical-align: middle;\n",
       "    }\n",
       "\n",
       "    .dataframe tbody tr th {\n",
       "        vertical-align: top;\n",
       "    }\n",
       "\n",
       "    .dataframe thead th {\n",
       "        text-align: right;\n",
       "    }\n",
       "</style>\n",
       "<table border=\"1\" class=\"dataframe\">\n",
       "  <thead>\n",
       "    <tr style=\"text-align: right;\">\n",
       "      <th></th>\n",
       "      <th>year</th>\n",
       "      <th>batsman</th>\n",
       "      <th>batsman country</th>\n",
       "      <th>bowler</th>\n",
       "      <th>bowler country</th>\n",
       "    </tr>\n",
       "  </thead>\n",
       "  <tbody>\n",
       "    <tr>\n",
       "      <th>3</th>\n",
       "      <td>2016</td>\n",
       "      <td>steve smith</td>\n",
       "      <td>australia</td>\n",
       "      <td>James Anderson</td>\n",
       "      <td>India</td>\n",
       "    </tr>\n",
       "    <tr>\n",
       "      <th>4</th>\n",
       "      <td>2015</td>\n",
       "      <td>steve smith</td>\n",
       "      <td>australia</td>\n",
       "      <td>Ravichandran Ashwin</td>\n",
       "      <td>India</td>\n",
       "    </tr>\n",
       "  </tbody>\n",
       "</table>\n",
       "</div>"
      ],
      "text/plain": [
       "   year      batsman batsman country               bowler bowler country\n",
       "3  2016  steve smith       australia       James Anderson          India\n",
       "4  2015  steve smith       australia  Ravichandran Ashwin          India"
      ]
     },
     "execution_count": 73,
     "metadata": {},
     "output_type": "execute_result"
    }
   ],
   "source": [
    "# in this case 2 values from the start\n",
    "icc_ranking.tail(2)"
   ]
  },
  {
   "cell_type": "code",
   "execution_count": 74,
   "metadata": {},
   "outputs": [
    {
     "data": {
      "text/plain": [
       "year                         2016\n",
       "batsman               steve smith\n",
       "batsman country         australia\n",
       "bowler             James Anderson\n",
       "bowler country              India\n",
       "Name: 3, dtype: object"
      ]
     },
     "execution_count": 74,
     "metadata": {},
     "output_type": "execute_result"
    }
   ],
   "source": [
    "# we can also extract data at particular index with the help of iloc\n",
    "icc_ranking.iloc[3]"
   ]
  },
  {
   "cell_type": "code",
   "execution_count": 75,
   "metadata": {},
   "outputs": [
    {
     "data": {
      "text/html": [
       "<div>\n",
       "<style scoped>\n",
       "    .dataframe tbody tr th:only-of-type {\n",
       "        vertical-align: middle;\n",
       "    }\n",
       "\n",
       "    .dataframe tbody tr th {\n",
       "        vertical-align: top;\n",
       "    }\n",
       "\n",
       "    .dataframe thead th {\n",
       "        text-align: right;\n",
       "    }\n",
       "</style>\n",
       "<table border=\"1\" class=\"dataframe\">\n",
       "  <thead>\n",
       "    <tr style=\"text-align: right;\">\n",
       "      <th></th>\n",
       "      <th>year</th>\n",
       "      <th>batsman</th>\n",
       "      <th>batsman country</th>\n",
       "      <th>bowler</th>\n",
       "      <th>bowler country</th>\n",
       "    </tr>\n",
       "  </thead>\n",
       "  <tbody>\n",
       "    <tr>\n",
       "      <th>0</th>\n",
       "      <td>2019</td>\n",
       "      <td>virat kohli</td>\n",
       "      <td>india</td>\n",
       "      <td>Pat Cummins</td>\n",
       "      <td>australia</td>\n",
       "    </tr>\n",
       "    <tr>\n",
       "      <th>2</th>\n",
       "      <td>2017</td>\n",
       "      <td>steve smith</td>\n",
       "      <td>australia</td>\n",
       "      <td>James Anderson</td>\n",
       "      <td>England</td>\n",
       "    </tr>\n",
       "    <tr>\n",
       "      <th>4</th>\n",
       "      <td>2015</td>\n",
       "      <td>steve smith</td>\n",
       "      <td>australia</td>\n",
       "      <td>Ravichandran Ashwin</td>\n",
       "      <td>India</td>\n",
       "    </tr>\n",
       "  </tbody>\n",
       "</table>\n",
       "</div>"
      ],
      "text/plain": [
       "   year      batsman batsman country               bowler bowler country\n",
       "0  2019  virat kohli           india          Pat Cummins      australia\n",
       "2  2017  steve smith       australia       James Anderson        England\n",
       "4  2015  steve smith       australia  Ravichandran Ashwin          India"
      ]
     },
     "execution_count": 75,
     "metadata": {},
     "output_type": "execute_result"
    }
   ],
   "source": [
    "# we can also select multiple index\n",
    "icc_ranking.iloc[['0','2','4']]"
   ]
  },
  {
   "cell_type": "code",
   "execution_count": 76,
   "metadata": {},
   "outputs": [
    {
     "data": {
      "text/html": [
       "<div>\n",
       "<style scoped>\n",
       "    .dataframe tbody tr th:only-of-type {\n",
       "        vertical-align: middle;\n",
       "    }\n",
       "\n",
       "    .dataframe tbody tr th {\n",
       "        vertical-align: top;\n",
       "    }\n",
       "\n",
       "    .dataframe thead th {\n",
       "        text-align: right;\n",
       "    }\n",
       "</style>\n",
       "<table border=\"1\" class=\"dataframe\">\n",
       "  <thead>\n",
       "    <tr style=\"text-align: right;\">\n",
       "      <th></th>\n",
       "      <th>year</th>\n",
       "      <th>batsman</th>\n",
       "      <th>batsman country</th>\n",
       "    </tr>\n",
       "  </thead>\n",
       "  <tbody>\n",
       "    <tr>\n",
       "      <th>0</th>\n",
       "      <td>2019</td>\n",
       "      <td>virat kohli</td>\n",
       "      <td>india</td>\n",
       "    </tr>\n",
       "    <tr>\n",
       "      <th>1</th>\n",
       "      <td>2018</td>\n",
       "      <td>virat kohli</td>\n",
       "      <td>india</td>\n",
       "    </tr>\n",
       "    <tr>\n",
       "      <th>2</th>\n",
       "      <td>2017</td>\n",
       "      <td>steve smith</td>\n",
       "      <td>australia</td>\n",
       "    </tr>\n",
       "    <tr>\n",
       "      <th>3</th>\n",
       "      <td>2016</td>\n",
       "      <td>steve smith</td>\n",
       "      <td>australia</td>\n",
       "    </tr>\n",
       "    <tr>\n",
       "      <th>4</th>\n",
       "      <td>2015</td>\n",
       "      <td>steve smith</td>\n",
       "      <td>australia</td>\n",
       "    </tr>\n",
       "  </tbody>\n",
       "</table>\n",
       "</div>"
      ],
      "text/plain": [
       "   year      batsman batsman country\n",
       "0  2019  virat kohli           india\n",
       "1  2018  virat kohli           india\n",
       "2  2017  steve smith       australia\n",
       "3  2016  steve smith       australia\n",
       "4  2015  steve smith       australia"
      ]
     },
     "execution_count": 76,
     "metadata": {},
     "output_type": "execute_result"
    }
   ],
   "source": [
    "# we can also extract multiple columns from the data frame\n",
    "# this basically creates a new dataframe with selected coloums\n",
    "pd.DataFrame(icc_ranking, columns=['year', 'batsman', 'batsman country'])"
   ]
  },
  {
   "cell_type": "code",
   "execution_count": 77,
   "metadata": {},
   "outputs": [
    {
     "data": {
      "text/html": [
       "<div>\n",
       "<style scoped>\n",
       "    .dataframe tbody tr th:only-of-type {\n",
       "        vertical-align: middle;\n",
       "    }\n",
       "\n",
       "    .dataframe tbody tr th {\n",
       "        vertical-align: top;\n",
       "    }\n",
       "\n",
       "    .dataframe thead th {\n",
       "        text-align: right;\n",
       "    }\n",
       "</style>\n",
       "<table border=\"1\" class=\"dataframe\">\n",
       "  <thead>\n",
       "    <tr style=\"text-align: right;\">\n",
       "      <th></th>\n",
       "      <th>year</th>\n",
       "      <th>bowler</th>\n",
       "      <th>bowler country</th>\n",
       "      <th>notdefined</th>\n",
       "    </tr>\n",
       "  </thead>\n",
       "  <tbody>\n",
       "    <tr>\n",
       "      <th>0</th>\n",
       "      <td>2019</td>\n",
       "      <td>Pat Cummins</td>\n",
       "      <td>australia</td>\n",
       "      <td>NaN</td>\n",
       "    </tr>\n",
       "    <tr>\n",
       "      <th>1</th>\n",
       "      <td>2018</td>\n",
       "      <td>Kagiso Rabada</td>\n",
       "      <td>South Africa</td>\n",
       "      <td>NaN</td>\n",
       "    </tr>\n",
       "    <tr>\n",
       "      <th>2</th>\n",
       "      <td>2017</td>\n",
       "      <td>James Anderson</td>\n",
       "      <td>England</td>\n",
       "      <td>NaN</td>\n",
       "    </tr>\n",
       "    <tr>\n",
       "      <th>3</th>\n",
       "      <td>2016</td>\n",
       "      <td>James Anderson</td>\n",
       "      <td>India</td>\n",
       "      <td>NaN</td>\n",
       "    </tr>\n",
       "    <tr>\n",
       "      <th>4</th>\n",
       "      <td>2015</td>\n",
       "      <td>Ravichandran Ashwin</td>\n",
       "      <td>India</td>\n",
       "      <td>NaN</td>\n",
       "    </tr>\n",
       "  </tbody>\n",
       "</table>\n",
       "</div>"
      ],
      "text/plain": [
       "   year               bowler bowler country  notdefined\n",
       "0  2019          Pat Cummins      australia         NaN\n",
       "1  2018        Kagiso Rabada   South Africa         NaN\n",
       "2  2017       James Anderson        England         NaN\n",
       "3  2016       James Anderson          India         NaN\n",
       "4  2015  Ravichandran Ashwin          India         NaN"
      ]
     },
     "execution_count": 77,
     "metadata": {},
     "output_type": "execute_result"
    }
   ],
   "source": [
    "# we can also extract multiple columns from the data frame\n",
    "# if we pass a coloum name that does not exists we shall get NaN values\n",
    "pd.DataFrame(icc_ranking, columns=['year', 'bowler', 'bowler country', 'notdefined'])"
   ]
  },
  {
   "cell_type": "code",
   "execution_count": 78,
   "metadata": {},
   "outputs": [
    {
     "data": {
      "text/html": [
       "<div>\n",
       "<style scoped>\n",
       "    .dataframe tbody tr th:only-of-type {\n",
       "        vertical-align: middle;\n",
       "    }\n",
       "\n",
       "    .dataframe tbody tr th {\n",
       "        vertical-align: top;\n",
       "    }\n",
       "\n",
       "    .dataframe thead th {\n",
       "        text-align: right;\n",
       "    }\n",
       "</style>\n",
       "<table border=\"1\" class=\"dataframe\">\n",
       "  <thead>\n",
       "    <tr style=\"text-align: right;\">\n",
       "      <th></th>\n",
       "      <th>cl1</th>\n",
       "      <th>cl2</th>\n",
       "      <th>cl3</th>\n",
       "      <th>cl4</th>\n",
       "      <th>cl5</th>\n",
       "    </tr>\n",
       "  </thead>\n",
       "  <tbody>\n",
       "    <tr>\n",
       "      <th>first</th>\n",
       "      <td>0.475770</td>\n",
       "      <td>-0.098268</td>\n",
       "      <td>-0.073420</td>\n",
       "      <td>-0.739632</td>\n",
       "      <td>1.147998</td>\n",
       "    </tr>\n",
       "    <tr>\n",
       "      <th>second</th>\n",
       "      <td>0.942677</td>\n",
       "      <td>1.454482</td>\n",
       "      <td>-1.246868</td>\n",
       "      <td>0.153964</td>\n",
       "      <td>-1.109041</td>\n",
       "    </tr>\n",
       "    <tr>\n",
       "      <th>third</th>\n",
       "      <td>-0.031052</td>\n",
       "      <td>0.017519</td>\n",
       "      <td>-0.077450</td>\n",
       "      <td>-1.663458</td>\n",
       "      <td>1.430449</td>\n",
       "    </tr>\n",
       "    <tr>\n",
       "      <th>fourth</th>\n",
       "      <td>-0.787432</td>\n",
       "      <td>0.738778</td>\n",
       "      <td>0.903089</td>\n",
       "      <td>-0.365768</td>\n",
       "      <td>0.789636</td>\n",
       "    </tr>\n",
       "  </tbody>\n",
       "</table>\n",
       "</div>"
      ],
      "text/plain": [
       "             cl1       cl2       cl3       cl4       cl5\n",
       "first   0.475770 -0.098268 -0.073420 -0.739632  1.147998\n",
       "second  0.942677  1.454482 -1.246868  0.153964 -1.109041\n",
       "third  -0.031052  0.017519 -0.077450 -1.663458  1.430449\n",
       "fourth -0.787432  0.738778  0.903089 -0.365768  0.789636"
      ]
     },
     "execution_count": 78,
     "metadata": {},
     "output_type": "execute_result"
    }
   ],
   "source": [
    "# let us create a Dataframe from numbers and provide user defined index and coloum names\n",
    "df = pd.DataFrame(np.random.randn(20).reshape(4,5), index = ['first','second', 'third','fourth'], columns=['cl1', 'cl2', 'cl3','cl4','cl5'])\n",
    "df"
   ]
  },
  {
   "cell_type": "code",
   "execution_count": 81,
   "metadata": {},
   "outputs": [
    {
     "data": {
      "text/html": [
       "<div>\n",
       "<style scoped>\n",
       "    .dataframe tbody tr th:only-of-type {\n",
       "        vertical-align: middle;\n",
       "    }\n",
       "\n",
       "    .dataframe tbody tr th {\n",
       "        vertical-align: top;\n",
       "    }\n",
       "\n",
       "    .dataframe thead th {\n",
       "        text-align: right;\n",
       "    }\n",
       "</style>\n",
       "<table border=\"1\" class=\"dataframe\">\n",
       "  <thead>\n",
       "    <tr style=\"text-align: right;\">\n",
       "      <th></th>\n",
       "      <th>cl1</th>\n",
       "      <th>cl2</th>\n",
       "      <th>cl3</th>\n",
       "      <th>cl4</th>\n",
       "      <th>cl5</th>\n",
       "    </tr>\n",
       "  </thead>\n",
       "  <tbody>\n",
       "    <tr>\n",
       "      <th>first</th>\n",
       "      <td>0.475770</td>\n",
       "      <td>-0.098268</td>\n",
       "      <td>-0.073420</td>\n",
       "      <td>-0.739632</td>\n",
       "      <td>1.147998</td>\n",
       "    </tr>\n",
       "    <tr>\n",
       "      <th>second</th>\n",
       "      <td>0.942677</td>\n",
       "      <td>1.454482</td>\n",
       "      <td>-1.246868</td>\n",
       "      <td>0.153964</td>\n",
       "      <td>-1.109041</td>\n",
       "    </tr>\n",
       "    <tr>\n",
       "      <th>third</th>\n",
       "      <td>-0.031052</td>\n",
       "      <td>0.017519</td>\n",
       "      <td>-0.077450</td>\n",
       "      <td>-1.663458</td>\n",
       "      <td>1.430449</td>\n",
       "    </tr>\n",
       "    <tr>\n",
       "      <th>fourth</th>\n",
       "      <td>-0.787432</td>\n",
       "      <td>0.738778</td>\n",
       "      <td>0.903089</td>\n",
       "      <td>-0.365768</td>\n",
       "      <td>0.789636</td>\n",
       "    </tr>\n",
       "    <tr>\n",
       "      <th>fifth</th>\n",
       "      <td>10.000000</td>\n",
       "      <td>10.000000</td>\n",
       "      <td>10.000000</td>\n",
       "      <td>10.000000</td>\n",
       "      <td>10.000000</td>\n",
       "    </tr>\n",
       "  </tbody>\n",
       "</table>\n",
       "</div>"
      ],
      "text/plain": [
       "              cl1        cl2        cl3        cl4        cl5\n",
       "first    0.475770  -0.098268  -0.073420  -0.739632   1.147998\n",
       "second   0.942677   1.454482  -1.246868   0.153964  -1.109041\n",
       "third   -0.031052   0.017519  -0.077450  -1.663458   1.430449\n",
       "fourth  -0.787432   0.738778   0.903089  -0.365768   0.789636\n",
       "fifth   10.000000  10.000000  10.000000  10.000000  10.000000"
      ]
     },
     "execution_count": 81,
     "metadata": {},
     "output_type": "execute_result"
    }
   ],
   "source": [
    "# we can reindex the DataFrame\n",
    "# and can use the fill_value option \n",
    "ndf = pd.DataFrame.reindex(df, index = ['first','second', 'third','fourth', 'fifth'], fill_value=10)\n",
    "ndf"
   ]
  },
  {
   "cell_type": "code",
   "execution_count": 82,
   "metadata": {},
   "outputs": [
    {
     "data": {
      "text/html": [
       "<div>\n",
       "<style scoped>\n",
       "    .dataframe tbody tr th:only-of-type {\n",
       "        vertical-align: middle;\n",
       "    }\n",
       "\n",
       "    .dataframe tbody tr th {\n",
       "        vertical-align: top;\n",
       "    }\n",
       "\n",
       "    .dataframe thead th {\n",
       "        text-align: right;\n",
       "    }\n",
       "</style>\n",
       "<table border=\"1\" class=\"dataframe\">\n",
       "  <thead>\n",
       "    <tr style=\"text-align: right;\">\n",
       "      <th></th>\n",
       "      <th>cl1</th>\n",
       "      <th>cl2</th>\n",
       "      <th>cl3</th>\n",
       "      <th>cl4</th>\n",
       "      <th>cl5</th>\n",
       "      <th>cl6</th>\n",
       "    </tr>\n",
       "  </thead>\n",
       "  <tbody>\n",
       "    <tr>\n",
       "      <th>first</th>\n",
       "      <td>0.475770</td>\n",
       "      <td>-0.098268</td>\n",
       "      <td>-0.073420</td>\n",
       "      <td>-0.739632</td>\n",
       "      <td>1.147998</td>\n",
       "      <td>10.0</td>\n",
       "    </tr>\n",
       "    <tr>\n",
       "      <th>second</th>\n",
       "      <td>0.942677</td>\n",
       "      <td>1.454482</td>\n",
       "      <td>-1.246868</td>\n",
       "      <td>0.153964</td>\n",
       "      <td>-1.109041</td>\n",
       "      <td>10.0</td>\n",
       "    </tr>\n",
       "    <tr>\n",
       "      <th>third</th>\n",
       "      <td>-0.031052</td>\n",
       "      <td>0.017519</td>\n",
       "      <td>-0.077450</td>\n",
       "      <td>-1.663458</td>\n",
       "      <td>1.430449</td>\n",
       "      <td>10.0</td>\n",
       "    </tr>\n",
       "    <tr>\n",
       "      <th>fourth</th>\n",
       "      <td>-0.787432</td>\n",
       "      <td>0.738778</td>\n",
       "      <td>0.903089</td>\n",
       "      <td>-0.365768</td>\n",
       "      <td>0.789636</td>\n",
       "      <td>10.0</td>\n",
       "    </tr>\n",
       "    <tr>\n",
       "      <th>fifth</th>\n",
       "      <td>10.000000</td>\n",
       "      <td>10.000000</td>\n",
       "      <td>10.000000</td>\n",
       "      <td>10.000000</td>\n",
       "      <td>10.000000</td>\n",
       "      <td>10.0</td>\n",
       "    </tr>\n",
       "  </tbody>\n",
       "</table>\n",
       "</div>"
      ],
      "text/plain": [
       "              cl1        cl2        cl3        cl4        cl5   cl6\n",
       "first    0.475770  -0.098268  -0.073420  -0.739632   1.147998  10.0\n",
       "second   0.942677   1.454482  -1.246868   0.153964  -1.109041  10.0\n",
       "third   -0.031052   0.017519  -0.077450  -1.663458   1.430449  10.0\n",
       "fourth  -0.787432   0.738778   0.903089  -0.365768   0.789636  10.0\n",
       "fifth   10.000000  10.000000  10.000000  10.000000  10.000000  10.0"
      ]
     },
     "execution_count": 82,
     "metadata": {},
     "output_type": "execute_result"
    }
   ],
   "source": [
    "# we can reindex by using the dataframe object too\n",
    "# we can also change the coloums \n",
    "ndf = df.reindex(index = ['first','second', 'third','fourth', 'fifth'], columns = ['cl1', 'cl2', 'cl3','cl4','cl5', 'cl6'], fill_value=10)\n",
    "ndf"
   ]
  }
 ],
 "metadata": {
  "kernelspec": {
   "display_name": "Python 3",
   "language": "python",
   "name": "python3"
  },
  "language_info": {
   "codemirror_mode": {
    "name": "ipython",
    "version": 3
   },
   "file_extension": ".py",
   "mimetype": "text/x-python",
   "name": "python",
   "nbconvert_exporter": "python",
   "pygments_lexer": "ipython3",
   "version": "3.6.5"
  }
 },
 "nbformat": 4,
 "nbformat_minor": 4
}
