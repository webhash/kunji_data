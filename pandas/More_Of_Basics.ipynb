{
 "cells": [
  {
   "cell_type": "code",
   "execution_count": 1,
   "metadata": {},
   "outputs": [],
   "source": [
    "import pandas as pd\n",
    "import numpy as np\n"
   ]
  },
  {
   "cell_type": "code",
   "execution_count": 2,
   "metadata": {},
   "outputs": [
    {
     "data": {
      "text/plain": [
       "a    0.343420\n",
       "c    0.777896\n",
       "d    0.258201\n",
       "e    0.668668\n",
       "b    0.269924\n",
       "dtype: float64"
      ]
     },
     "execution_count": 2,
     "metadata": {},
     "output_type": "execute_result"
    }
   ],
   "source": [
    "some_series = pd.Series(np.random.rand(5), index=['a','c','d','e','b'])\n",
    "some_series"
   ]
  },
  {
   "cell_type": "code",
   "execution_count": 3,
   "metadata": {},
   "outputs": [
    {
     "data": {
      "text/plain": [
       "c    0.777896\n",
       "e    0.668668\n",
       "dtype: float64"
      ]
     },
     "execution_count": 3,
     "metadata": {},
     "output_type": "execute_result"
    }
   ],
   "source": [
    "some_series[some_series>.5]"
   ]
  },
  {
   "cell_type": "code",
   "execution_count": 4,
   "metadata": {},
   "outputs": [
    {
     "data": {
      "text/plain": [
       "a    0.343420\n",
       "c    0.777896\n",
       "d    0.258201\n",
       "e    0.668668\n",
       "b    0.269924\n",
       "dtype: float64"
      ]
     },
     "execution_count": 4,
     "metadata": {},
     "output_type": "execute_result"
    }
   ],
   "source": [
    "# we can update a value in the series\n",
    "some_series[some_series>.8] = 1\n",
    "some_series"
   ]
  },
  {
   "cell_type": "code",
   "execution_count": 5,
   "metadata": {},
   "outputs": [
    {
     "data": {
      "text/plain": [
       "a    0.343420\n",
       "d    0.258201\n",
       "dtype: float64"
      ]
     },
     "execution_count": 5,
     "metadata": {},
     "output_type": "execute_result"
    }
   ],
   "source": [
    "some_series[['a','d']]"
   ]
  },
  {
   "cell_type": "code",
   "execution_count": 6,
   "metadata": {},
   "outputs": [
    {
     "data": {
      "text/plain": [
       "a    0.343420\n",
       "e    0.668668\n",
       "dtype: float64"
      ]
     },
     "execution_count": 6,
     "metadata": {},
     "output_type": "execute_result"
    }
   ],
   "source": [
    "some_series[[0,3]]"
   ]
  },
  {
   "cell_type": "code",
   "execution_count": 7,
   "metadata": {},
   "outputs": [
    {
     "data": {
      "text/plain": [
       "a    0.343420\n",
       "b    0.269924\n",
       "c    0.777896\n",
       "d    0.258201\n",
       "e    0.668668\n",
       "dtype: float64"
      ]
     },
     "execution_count": 7,
     "metadata": {},
     "output_type": "execute_result"
    }
   ],
   "source": [
    "# we can sort the index of the series\n",
    "some_series = some_series.sort_index()\n",
    "some_series"
   ]
  },
  {
   "cell_type": "code",
   "execution_count": 8,
   "metadata": {},
   "outputs": [
    {
     "data": {
      "text/plain": [
       "d    0.258201\n",
       "b    0.269924\n",
       "a    0.343420\n",
       "e    0.668668\n",
       "c    0.777896\n",
       "dtype: float64"
      ]
     },
     "execution_count": 8,
     "metadata": {},
     "output_type": "execute_result"
    }
   ],
   "source": [
    "# we can also sort the series based on the values\n",
    "some_series.sort_values()"
   ]
  },
  {
   "cell_type": "code",
   "execution_count": 9,
   "metadata": {},
   "outputs": [
    {
     "data": {
      "text/plain": [
       "a    3.0\n",
       "b    2.0\n",
       "c    5.0\n",
       "d    1.0\n",
       "e    4.0\n",
       "dtype: float64"
      ]
     },
     "execution_count": 9,
     "metadata": {},
     "output_type": "execute_result"
    }
   ],
   "source": [
    "#we can use rank to get the ranking of values, showing the order of values \n",
    "# when we run sort etc, we shall have the values in order of rank\n",
    "some_series.rank()"
   ]
  },
  {
   "cell_type": "code",
   "execution_count": 10,
   "metadata": {},
   "outputs": [
    {
     "data": {
      "text/plain": [
       "d    0.258201\n",
       "b    0.269924\n",
       "a    0.343420\n",
       "e    0.668668\n",
       "c    0.777896\n",
       "dtype: float64"
      ]
     },
     "execution_count": 10,
     "metadata": {},
     "output_type": "execute_result"
    }
   ],
   "source": [
    "# we can also sort them in ascending order\n",
    "some_series.sort_values(ascending=True)"
   ]
  },
  {
   "cell_type": "code",
   "execution_count": 11,
   "metadata": {},
   "outputs": [
    {
     "data": {
      "text/plain": [
       "a    0.343420\n",
       "b    0.269924\n",
       "d    0.258201\n",
       "e    0.668668\n",
       "dtype: float64"
      ]
     },
     "execution_count": 11,
     "metadata": {},
     "output_type": "execute_result"
    }
   ],
   "source": [
    "# we can use drop to remove a value from the series, remember that new series is created \n",
    "nss = some_series.drop('c')\n",
    "nss"
   ]
  },
  {
   "cell_type": "code",
   "execution_count": 12,
   "metadata": {},
   "outputs": [
    {
     "data": {
      "text/plain": [
       "a    0.227276\n",
       "b    0.621150\n",
       "c    0.766684\n",
       "d    0.989394\n",
       "e    0.265236\n",
       "f    0.065219\n",
       "dtype: float64"
      ]
     },
     "execution_count": 12,
     "metadata": {},
     "output_type": "execute_result"
    }
   ],
   "source": [
    "some_series_1 = pd.Series(np.random.rand(6), index=['a','b','c','d','e','f'])\n",
    "some_series_1"
   ]
  },
  {
   "cell_type": "code",
   "execution_count": 13,
   "metadata": {},
   "outputs": [
    {
     "data": {
      "text/plain": [
       "a    0.454552\n",
       "b    1.242300\n",
       "c    1.533369\n",
       "d    1.978789\n",
       "e    0.530472\n",
       "f    0.130438\n",
       "dtype: float64"
      ]
     },
     "execution_count": 13,
     "metadata": {},
     "output_type": "execute_result"
    }
   ],
   "source": [
    "# we can do scalar operation on the series \n",
    "some_series_2 = some_series_1*2\n",
    "some_series_2"
   ]
  },
  {
   "cell_type": "code",
   "execution_count": 14,
   "metadata": {},
   "outputs": [
    {
     "data": {
      "text/plain": [
       "a   -0.545448\n",
       "b    0.242300\n",
       "c    0.533369\n",
       "d    0.978789\n",
       "e   -0.469528\n",
       "f   -0.869562\n",
       "dtype: float64"
      ]
     },
     "execution_count": 14,
     "metadata": {},
     "output_type": "execute_result"
    }
   ],
   "source": [
    "some_series_2 = some_series_2 - 1\n",
    "some_series_2"
   ]
  },
  {
   "cell_type": "code",
   "execution_count": 15,
   "metadata": {},
   "outputs": [
    {
     "data": {
      "text/plain": [
       "a   -0.318172\n",
       "b    0.863450\n",
       "c    1.300053\n",
       "d    1.968183\n",
       "e   -0.204292\n",
       "f   -0.804344\n",
       "dtype: float64"
      ]
     },
     "execution_count": 15,
     "metadata": {},
     "output_type": "execute_result"
    }
   ],
   "source": [
    "# we can add two series \n",
    "some_series_2 + some_series_1"
   ]
  },
  {
   "cell_type": "code",
   "execution_count": 16,
   "metadata": {},
   "outputs": [
    {
     "data": {
      "text/plain": [
       "a   -0.202028\n",
       "b    0.512223\n",
       "c    1.311265\n",
       "d    1.236990\n",
       "e    0.199140\n",
       "f         NaN\n",
       "dtype: float64"
      ]
     },
     "execution_count": 16,
     "metadata": {},
     "output_type": "execute_result"
    }
   ],
   "source": [
    "# but only when we have same index names can we see the result, else we shall see NaN\n",
    "some_series + some_series_2"
   ]
  },
  {
   "cell_type": "code",
   "execution_count": 17,
   "metadata": {},
   "outputs": [
    {
     "data": {
      "text/plain": [
       "count    5.000000\n",
       "mean     0.463622\n",
       "std      0.242372\n",
       "min      0.258201\n",
       "25%      0.269924\n",
       "50%      0.343420\n",
       "75%      0.668668\n",
       "max      0.777896\n",
       "dtype: float64"
      ]
     },
     "execution_count": 17,
     "metadata": {},
     "output_type": "execute_result"
    }
   ],
   "source": [
    "# series supports describe that can be used to get some basic stats of data\n",
    "some_series.describe()"
   ]
  },
  {
   "cell_type": "code",
   "execution_count": 18,
   "metadata": {},
   "outputs": [
    {
     "data": {
      "text/plain": [
       "a         NaN\n",
       "b   -0.214012\n",
       "c    1.881911\n",
       "d   -0.668078\n",
       "e    1.589720\n",
       "dtype: float64"
      ]
     },
     "execution_count": 18,
     "metadata": {},
     "output_type": "execute_result"
    }
   ],
   "source": [
    "# we can use the pct_chnage to get the percentage change between series values\n",
    "new_s = some_series.pct_change()\n",
    "new_s"
   ]
  },
  {
   "cell_type": "code",
   "execution_count": 19,
   "metadata": {},
   "outputs": [
    {
     "data": {
      "text/plain": [
       "a     True\n",
       "b    False\n",
       "c    False\n",
       "d    False\n",
       "e    False\n",
       "dtype: bool"
      ]
     },
     "execution_count": 19,
     "metadata": {},
     "output_type": "execute_result"
    }
   ],
   "source": [
    "# we can use isnull to get the NaN values \n",
    "new_s.isnull()"
   ]
  },
  {
   "cell_type": "code",
   "execution_count": 20,
   "metadata": {},
   "outputs": [],
   "source": [
    "# we can directly drop the Nan values by dropna\n",
    "new_s = new_s.dropna()"
   ]
  },
  {
   "cell_type": "code",
   "execution_count": 21,
   "metadata": {},
   "outputs": [
    {
     "data": {
      "text/plain": [
       "-0.6680777015690009"
      ]
     },
     "execution_count": 21,
     "metadata": {},
     "output_type": "execute_result"
    }
   ],
   "source": [
    "new_s.min()"
   ]
  },
  {
   "cell_type": "code",
   "execution_count": 22,
   "metadata": {},
   "outputs": [
    {
     "data": {
      "text/plain": [
       "1.881910664910905"
      ]
     },
     "execution_count": 22,
     "metadata": {},
     "output_type": "execute_result"
    }
   ],
   "source": [
    "new_s.max()"
   ]
  },
  {
   "cell_type": "code",
   "execution_count": 23,
   "metadata": {},
   "outputs": [
    {
     "data": {
      "text/plain": [
       "1.275995917196022"
      ]
     },
     "execution_count": 23,
     "metadata": {},
     "output_type": "execute_result"
    }
   ],
   "source": [
    "new_s.std()"
   ]
  },
  {
   "cell_type": "code",
   "execution_count": 24,
   "metadata": {},
   "outputs": [
    {
     "data": {
      "text/plain": [
       "0.6473851944277041"
      ]
     },
     "execution_count": 24,
     "metadata": {},
     "output_type": "execute_result"
    }
   ],
   "source": [
    "new_s.mean()"
   ]
  },
  {
   "cell_type": "code",
   "execution_count": 64,
   "metadata": {},
   "outputs": [
    {
     "data": {
      "text/plain": [
       "1  a    0.068926\n",
       "   b    0.030109\n",
       "   c    0.850493\n",
       "2  a    0.823103\n",
       "   b    0.220916\n",
       "   c    0.450701\n",
       "3  a    0.967128\n",
       "   b    0.087010\n",
       "   c    0.308175\n",
       "dtype: float64"
      ]
     },
     "execution_count": 64,
     "metadata": {},
     "output_type": "execute_result"
    }
   ],
   "source": [
    "# before we trun to Dataframe lets have a look at index heirarchies in series\n",
    "# here we pass two list of indexes , basicaly we want to create 3 groups of types a,b,c \n",
    "another_series = pd.Series(np.random.rand(9), index=[[1,1,1,2,2,2,3,3,3], ['a','b','c','a','b','c','a','b','c']])\n",
    "another_series"
   ]
  },
  {
   "cell_type": "code",
   "execution_count": 65,
   "metadata": {},
   "outputs": [
    {
     "data": {
      "text/plain": [
       "MultiIndex(levels=[[1, 2, 3], ['a', 'b', 'c']],\n",
       "           labels=[[0, 0, 0, 1, 1, 1, 2, 2, 2], [0, 1, 2, 0, 1, 2, 0, 1, 2]])"
      ]
     },
     "execution_count": 65,
     "metadata": {},
     "output_type": "execute_result"
    }
   ],
   "source": [
    "#when we print index we get to know about the multilevels \n",
    "another_series.index"
   ]
  },
  {
   "cell_type": "code",
   "execution_count": 66,
   "metadata": {},
   "outputs": [
    {
     "data": {
      "text/plain": [
       "a    0.068926\n",
       "b    0.030109\n",
       "c    0.850493\n",
       "dtype: float64"
      ]
     },
     "execution_count": 66,
     "metadata": {},
     "output_type": "execute_result"
    }
   ],
   "source": [
    "#we get the first set\n",
    "another_series[1]"
   ]
  },
  {
   "cell_type": "code",
   "execution_count": 69,
   "metadata": {},
   "outputs": [
    {
     "data": {
      "text/plain": [
       "1    0.068926\n",
       "2    0.823103\n",
       "3    0.967128\n",
       "dtype: float64"
      ]
     },
     "execution_count": 69,
     "metadata": {},
     "output_type": "execute_result"
    }
   ],
   "source": [
    "#we can extract second level all values too\n",
    "# this hall give us all 'a'\n",
    "another_series[:, 'a']"
   ]
  },
  {
   "cell_type": "code",
   "execution_count": 71,
   "metadata": {},
   "outputs": [
    {
     "data": {
      "text/plain": [
       "pandas.core.frame.DataFrame"
      ]
     },
     "execution_count": 71,
     "metadata": {},
     "output_type": "execute_result"
    }
   ],
   "source": [
    "#we can convert multilevel series to a dataframe\n",
    "d = another_series.unstack()\n",
    "type(d)"
   ]
  },
  {
   "cell_type": "code",
   "execution_count": 72,
   "metadata": {},
   "outputs": [
    {
     "data": {
      "text/html": [
       "<div>\n",
       "<style scoped>\n",
       "    .dataframe tbody tr th:only-of-type {\n",
       "        vertical-align: middle;\n",
       "    }\n",
       "\n",
       "    .dataframe tbody tr th {\n",
       "        vertical-align: top;\n",
       "    }\n",
       "\n",
       "    .dataframe thead th {\n",
       "        text-align: right;\n",
       "    }\n",
       "</style>\n",
       "<table border=\"1\" class=\"dataframe\">\n",
       "  <thead>\n",
       "    <tr style=\"text-align: right;\">\n",
       "      <th></th>\n",
       "      <th>a</th>\n",
       "      <th>b</th>\n",
       "      <th>c</th>\n",
       "    </tr>\n",
       "  </thead>\n",
       "  <tbody>\n",
       "    <tr>\n",
       "      <th>1</th>\n",
       "      <td>0.068926</td>\n",
       "      <td>0.030109</td>\n",
       "      <td>0.850493</td>\n",
       "    </tr>\n",
       "    <tr>\n",
       "      <th>2</th>\n",
       "      <td>0.823103</td>\n",
       "      <td>0.220916</td>\n",
       "      <td>0.450701</td>\n",
       "    </tr>\n",
       "    <tr>\n",
       "      <th>3</th>\n",
       "      <td>0.967128</td>\n",
       "      <td>0.087010</td>\n",
       "      <td>0.308175</td>\n",
       "    </tr>\n",
       "  </tbody>\n",
       "</table>\n",
       "</div>"
      ],
      "text/plain": [
       "          a         b         c\n",
       "1  0.068926  0.030109  0.850493\n",
       "2  0.823103  0.220916  0.450701\n",
       "3  0.967128  0.087010  0.308175"
      ]
     },
     "execution_count": 72,
     "metadata": {},
     "output_type": "execute_result"
    }
   ],
   "source": [
    "d"
   ]
  },
  {
   "cell_type": "markdown",
   "metadata": {},
   "source": [
    "Now lets look at the dataframe features"
   ]
  },
  {
   "cell_type": "code",
   "execution_count": 25,
   "metadata": {},
   "outputs": [
    {
     "data": {
      "text/html": [
       "<div>\n",
       "<style scoped>\n",
       "    .dataframe tbody tr th:only-of-type {\n",
       "        vertical-align: middle;\n",
       "    }\n",
       "\n",
       "    .dataframe tbody tr th {\n",
       "        vertical-align: top;\n",
       "    }\n",
       "\n",
       "    .dataframe thead th {\n",
       "        text-align: right;\n",
       "    }\n",
       "</style>\n",
       "<table border=\"1\" class=\"dataframe\">\n",
       "  <thead>\n",
       "    <tr style=\"text-align: right;\">\n",
       "      <th></th>\n",
       "      <th>c1</th>\n",
       "      <th>c2</th>\n",
       "      <th>c3</th>\n",
       "      <th>c4</th>\n",
       "      <th>c5</th>\n",
       "    </tr>\n",
       "  </thead>\n",
       "  <tbody>\n",
       "    <tr>\n",
       "      <th>a</th>\n",
       "      <td>0.023124</td>\n",
       "      <td>0.361262</td>\n",
       "      <td>0.979241</td>\n",
       "      <td>0.834571</td>\n",
       "      <td>0.595699</td>\n",
       "    </tr>\n",
       "    <tr>\n",
       "      <th>b</th>\n",
       "      <td>0.869244</td>\n",
       "      <td>0.601150</td>\n",
       "      <td>0.002771</td>\n",
       "      <td>0.880024</td>\n",
       "      <td>0.976524</td>\n",
       "    </tr>\n",
       "    <tr>\n",
       "      <th>c</th>\n",
       "      <td>0.532271</td>\n",
       "      <td>0.669598</td>\n",
       "      <td>0.088552</td>\n",
       "      <td>0.291433</td>\n",
       "      <td>0.635430</td>\n",
       "    </tr>\n",
       "    <tr>\n",
       "      <th>d</th>\n",
       "      <td>0.770113</td>\n",
       "      <td>0.818070</td>\n",
       "      <td>0.726456</td>\n",
       "      <td>0.864664</td>\n",
       "      <td>0.719879</td>\n",
       "    </tr>\n",
       "  </tbody>\n",
       "</table>\n",
       "</div>"
      ],
      "text/plain": [
       "         c1        c2        c3        c4        c5\n",
       "a  0.023124  0.361262  0.979241  0.834571  0.595699\n",
       "b  0.869244  0.601150  0.002771  0.880024  0.976524\n",
       "c  0.532271  0.669598  0.088552  0.291433  0.635430\n",
       "d  0.770113  0.818070  0.726456  0.864664  0.719879"
      ]
     },
     "execution_count": 25,
     "metadata": {},
     "output_type": "execute_result"
    }
   ],
   "source": [
    "some_df = pd.DataFrame(np.random.rand(20).reshape(4,5), index=['a','b','c','d'], columns=['c1','c2','c3','c4','c5'])\n",
    "some_df"
   ]
  },
  {
   "cell_type": "code",
   "execution_count": 26,
   "metadata": {},
   "outputs": [
    {
     "data": {
      "text/html": [
       "<div>\n",
       "<style scoped>\n",
       "    .dataframe tbody tr th:only-of-type {\n",
       "        vertical-align: middle;\n",
       "    }\n",
       "\n",
       "    .dataframe tbody tr th {\n",
       "        vertical-align: top;\n",
       "    }\n",
       "\n",
       "    .dataframe thead th {\n",
       "        text-align: right;\n",
       "    }\n",
       "</style>\n",
       "<table border=\"1\" class=\"dataframe\">\n",
       "  <thead>\n",
       "    <tr style=\"text-align: right;\">\n",
       "      <th></th>\n",
       "      <th>c1</th>\n",
       "      <th>c2</th>\n",
       "      <th>c3</th>\n",
       "      <th>c4</th>\n",
       "      <th>c5</th>\n",
       "    </tr>\n",
       "  </thead>\n",
       "  <tbody>\n",
       "    <tr>\n",
       "      <th>b</th>\n",
       "      <td>0.869244</td>\n",
       "      <td>0.601150</td>\n",
       "      <td>0.002771</td>\n",
       "      <td>0.880024</td>\n",
       "      <td>0.976524</td>\n",
       "    </tr>\n",
       "    <tr>\n",
       "      <th>c</th>\n",
       "      <td>0.532271</td>\n",
       "      <td>0.669598</td>\n",
       "      <td>0.088552</td>\n",
       "      <td>0.291433</td>\n",
       "      <td>0.635430</td>\n",
       "    </tr>\n",
       "    <tr>\n",
       "      <th>d</th>\n",
       "      <td>0.770113</td>\n",
       "      <td>0.818070</td>\n",
       "      <td>0.726456</td>\n",
       "      <td>0.864664</td>\n",
       "      <td>0.719879</td>\n",
       "    </tr>\n",
       "  </tbody>\n",
       "</table>\n",
       "</div>"
      ],
      "text/plain": [
       "         c1        c2        c3        c4        c5\n",
       "b  0.869244  0.601150  0.002771  0.880024  0.976524\n",
       "c  0.532271  0.669598  0.088552  0.291433  0.635430\n",
       "d  0.770113  0.818070  0.726456  0.864664  0.719879"
      ]
     },
     "execution_count": 26,
     "metadata": {},
     "output_type": "execute_result"
    }
   ],
   "source": [
    "# by default we shall remove the row values\n",
    "some_df.drop('a')"
   ]
  },
  {
   "cell_type": "code",
   "execution_count": 27,
   "metadata": {},
   "outputs": [
    {
     "data": {
      "text/html": [
       "<div>\n",
       "<style scoped>\n",
       "    .dataframe tbody tr th:only-of-type {\n",
       "        vertical-align: middle;\n",
       "    }\n",
       "\n",
       "    .dataframe tbody tr th {\n",
       "        vertical-align: top;\n",
       "    }\n",
       "\n",
       "    .dataframe thead th {\n",
       "        text-align: right;\n",
       "    }\n",
       "</style>\n",
       "<table border=\"1\" class=\"dataframe\">\n",
       "  <thead>\n",
       "    <tr style=\"text-align: right;\">\n",
       "      <th></th>\n",
       "      <th>c1</th>\n",
       "      <th>c2</th>\n",
       "      <th>c3</th>\n",
       "      <th>c4</th>\n",
       "      <th>c5</th>\n",
       "    </tr>\n",
       "  </thead>\n",
       "  <tbody>\n",
       "    <tr>\n",
       "      <th>b</th>\n",
       "      <td>0.869244</td>\n",
       "      <td>0.601150</td>\n",
       "      <td>0.002771</td>\n",
       "      <td>0.880024</td>\n",
       "      <td>0.976524</td>\n",
       "    </tr>\n",
       "    <tr>\n",
       "      <th>c</th>\n",
       "      <td>0.532271</td>\n",
       "      <td>0.669598</td>\n",
       "      <td>0.088552</td>\n",
       "      <td>0.291433</td>\n",
       "      <td>0.635430</td>\n",
       "    </tr>\n",
       "    <tr>\n",
       "      <th>d</th>\n",
       "      <td>0.770113</td>\n",
       "      <td>0.818070</td>\n",
       "      <td>0.726456</td>\n",
       "      <td>0.864664</td>\n",
       "      <td>0.719879</td>\n",
       "    </tr>\n",
       "  </tbody>\n",
       "</table>\n",
       "</div>"
      ],
      "text/plain": [
       "         c1        c2        c3        c4        c5\n",
       "b  0.869244  0.601150  0.002771  0.880024  0.976524\n",
       "c  0.532271  0.669598  0.088552  0.291433  0.635430\n",
       "d  0.770113  0.818070  0.726456  0.864664  0.719879"
      ]
     },
     "execution_count": 27,
     "metadata": {},
     "output_type": "execute_result"
    }
   ],
   "source": [
    "# axis value is 0 for row, i.e. the default behaviour\n",
    "some_df.drop('a', axis=0)"
   ]
  },
  {
   "cell_type": "code",
   "execution_count": 28,
   "metadata": {},
   "outputs": [
    {
     "data": {
      "text/html": [
       "<div>\n",
       "<style scoped>\n",
       "    .dataframe tbody tr th:only-of-type {\n",
       "        vertical-align: middle;\n",
       "    }\n",
       "\n",
       "    .dataframe tbody tr th {\n",
       "        vertical-align: top;\n",
       "    }\n",
       "\n",
       "    .dataframe thead th {\n",
       "        text-align: right;\n",
       "    }\n",
       "</style>\n",
       "<table border=\"1\" class=\"dataframe\">\n",
       "  <thead>\n",
       "    <tr style=\"text-align: right;\">\n",
       "      <th></th>\n",
       "      <th>c1</th>\n",
       "      <th>c2</th>\n",
       "      <th>c4</th>\n",
       "      <th>c5</th>\n",
       "    </tr>\n",
       "  </thead>\n",
       "  <tbody>\n",
       "    <tr>\n",
       "      <th>a</th>\n",
       "      <td>0.023124</td>\n",
       "      <td>0.361262</td>\n",
       "      <td>0.834571</td>\n",
       "      <td>0.595699</td>\n",
       "    </tr>\n",
       "    <tr>\n",
       "      <th>b</th>\n",
       "      <td>0.869244</td>\n",
       "      <td>0.601150</td>\n",
       "      <td>0.880024</td>\n",
       "      <td>0.976524</td>\n",
       "    </tr>\n",
       "    <tr>\n",
       "      <th>c</th>\n",
       "      <td>0.532271</td>\n",
       "      <td>0.669598</td>\n",
       "      <td>0.291433</td>\n",
       "      <td>0.635430</td>\n",
       "    </tr>\n",
       "    <tr>\n",
       "      <th>d</th>\n",
       "      <td>0.770113</td>\n",
       "      <td>0.818070</td>\n",
       "      <td>0.864664</td>\n",
       "      <td>0.719879</td>\n",
       "    </tr>\n",
       "  </tbody>\n",
       "</table>\n",
       "</div>"
      ],
      "text/plain": [
       "         c1        c2        c4        c5\n",
       "a  0.023124  0.361262  0.834571  0.595699\n",
       "b  0.869244  0.601150  0.880024  0.976524\n",
       "c  0.532271  0.669598  0.291433  0.635430\n",
       "d  0.770113  0.818070  0.864664  0.719879"
      ]
     },
     "execution_count": 28,
     "metadata": {},
     "output_type": "execute_result"
    }
   ],
   "source": [
    "some_df.drop('c3', axis=1)"
   ]
  },
  {
   "cell_type": "code",
   "execution_count": 29,
   "metadata": {},
   "outputs": [
    {
     "data": {
      "text/plain": [
       "a    0.023124\n",
       "b    0.869244\n",
       "c    0.532271\n",
       "d    0.770113\n",
       "Name: c1, dtype: float64"
      ]
     },
     "execution_count": 29,
     "metadata": {},
     "output_type": "execute_result"
    }
   ],
   "source": [
    "# we can select the data by col index\n",
    "some_df['c1']"
   ]
  },
  {
   "cell_type": "code",
   "execution_count": 30,
   "metadata": {},
   "outputs": [
    {
     "data": {
      "text/html": [
       "<div>\n",
       "<style scoped>\n",
       "    .dataframe tbody tr th:only-of-type {\n",
       "        vertical-align: middle;\n",
       "    }\n",
       "\n",
       "    .dataframe tbody tr th {\n",
       "        vertical-align: top;\n",
       "    }\n",
       "\n",
       "    .dataframe thead th {\n",
       "        text-align: right;\n",
       "    }\n",
       "</style>\n",
       "<table border=\"1\" class=\"dataframe\">\n",
       "  <thead>\n",
       "    <tr style=\"text-align: right;\">\n",
       "      <th></th>\n",
       "      <th>c1</th>\n",
       "      <th>c2</th>\n",
       "      <th>c3</th>\n",
       "      <th>c4</th>\n",
       "      <th>c5</th>\n",
       "    </tr>\n",
       "  </thead>\n",
       "  <tbody>\n",
       "    <tr>\n",
       "      <th>a</th>\n",
       "      <td>0.023124</td>\n",
       "      <td>0.361262</td>\n",
       "      <td>0.979241</td>\n",
       "      <td>0.834571</td>\n",
       "      <td>0.595699</td>\n",
       "    </tr>\n",
       "    <tr>\n",
       "      <th>d</th>\n",
       "      <td>0.770113</td>\n",
       "      <td>0.818070</td>\n",
       "      <td>0.726456</td>\n",
       "      <td>0.864664</td>\n",
       "      <td>0.719879</td>\n",
       "    </tr>\n",
       "  </tbody>\n",
       "</table>\n",
       "</div>"
      ],
      "text/plain": [
       "         c1        c2        c3        c4        c5\n",
       "a  0.023124  0.361262  0.979241  0.834571  0.595699\n",
       "d  0.770113  0.818070  0.726456  0.864664  0.719879"
      ]
     },
     "execution_count": 30,
     "metadata": {},
     "output_type": "execute_result"
    }
   ],
   "source": [
    "# we can use the condition to select relevant data \n",
    "some_df[some_df['c3']>.5]"
   ]
  },
  {
   "cell_type": "code",
   "execution_count": 31,
   "metadata": {},
   "outputs": [
    {
     "data": {
      "text/html": [
       "<div>\n",
       "<style scoped>\n",
       "    .dataframe tbody tr th:only-of-type {\n",
       "        vertical-align: middle;\n",
       "    }\n",
       "\n",
       "    .dataframe tbody tr th {\n",
       "        vertical-align: top;\n",
       "    }\n",
       "\n",
       "    .dataframe thead th {\n",
       "        text-align: right;\n",
       "    }\n",
       "</style>\n",
       "<table border=\"1\" class=\"dataframe\">\n",
       "  <thead>\n",
       "    <tr style=\"text-align: right;\">\n",
       "      <th></th>\n",
       "      <th>c1</th>\n",
       "      <th>c2</th>\n",
       "      <th>c3</th>\n",
       "      <th>c4</th>\n",
       "      <th>c5</th>\n",
       "    </tr>\n",
       "  </thead>\n",
       "  <tbody>\n",
       "    <tr>\n",
       "      <th>a</th>\n",
       "      <td>False</td>\n",
       "      <td>True</td>\n",
       "      <td>True</td>\n",
       "      <td>True</td>\n",
       "      <td>True</td>\n",
       "    </tr>\n",
       "    <tr>\n",
       "      <th>b</th>\n",
       "      <td>True</td>\n",
       "      <td>True</td>\n",
       "      <td>False</td>\n",
       "      <td>True</td>\n",
       "      <td>True</td>\n",
       "    </tr>\n",
       "    <tr>\n",
       "      <th>c</th>\n",
       "      <td>True</td>\n",
       "      <td>True</td>\n",
       "      <td>False</td>\n",
       "      <td>True</td>\n",
       "      <td>True</td>\n",
       "    </tr>\n",
       "    <tr>\n",
       "      <th>d</th>\n",
       "      <td>True</td>\n",
       "      <td>True</td>\n",
       "      <td>True</td>\n",
       "      <td>True</td>\n",
       "      <td>True</td>\n",
       "    </tr>\n",
       "  </tbody>\n",
       "</table>\n",
       "</div>"
      ],
      "text/plain": [
       "      c1    c2     c3    c4    c5\n",
       "a  False  True   True  True  True\n",
       "b   True  True  False  True  True\n",
       "c   True  True  False  True  True\n",
       "d   True  True   True  True  True"
      ]
     },
     "execution_count": 31,
     "metadata": {},
     "output_type": "execute_result"
    }
   ],
   "source": [
    "# we can also do conditional on the entire dataframe\n",
    "some_df > .2\n"
   ]
  },
  {
   "cell_type": "code",
   "execution_count": 32,
   "metadata": {},
   "outputs": [
    {
     "data": {
      "text/html": [
       "<div>\n",
       "<style scoped>\n",
       "    .dataframe tbody tr th:only-of-type {\n",
       "        vertical-align: middle;\n",
       "    }\n",
       "\n",
       "    .dataframe tbody tr th {\n",
       "        vertical-align: top;\n",
       "    }\n",
       "\n",
       "    .dataframe thead th {\n",
       "        text-align: right;\n",
       "    }\n",
       "</style>\n",
       "<table border=\"1\" class=\"dataframe\">\n",
       "  <thead>\n",
       "    <tr style=\"text-align: right;\">\n",
       "      <th></th>\n",
       "      <th>c1</th>\n",
       "      <th>c2</th>\n",
       "      <th>c3</th>\n",
       "      <th>c4</th>\n",
       "      <th>c5</th>\n",
       "    </tr>\n",
       "  </thead>\n",
       "  <tbody>\n",
       "    <tr>\n",
       "      <th>a</th>\n",
       "      <td>1.023124</td>\n",
       "      <td>1.361262</td>\n",
       "      <td>1.979241</td>\n",
       "      <td>1.834571</td>\n",
       "      <td>1.595699</td>\n",
       "    </tr>\n",
       "    <tr>\n",
       "      <th>b</th>\n",
       "      <td>1.869244</td>\n",
       "      <td>1.601150</td>\n",
       "      <td>1.002771</td>\n",
       "      <td>1.880024</td>\n",
       "      <td>1.976524</td>\n",
       "    </tr>\n",
       "    <tr>\n",
       "      <th>c</th>\n",
       "      <td>1.532271</td>\n",
       "      <td>1.669598</td>\n",
       "      <td>1.088552</td>\n",
       "      <td>1.291433</td>\n",
       "      <td>1.635430</td>\n",
       "    </tr>\n",
       "    <tr>\n",
       "      <th>d</th>\n",
       "      <td>1.770113</td>\n",
       "      <td>1.818070</td>\n",
       "      <td>1.726456</td>\n",
       "      <td>1.864664</td>\n",
       "      <td>1.719879</td>\n",
       "    </tr>\n",
       "  </tbody>\n",
       "</table>\n",
       "</div>"
      ],
      "text/plain": [
       "         c1        c2        c3        c4        c5\n",
       "a  1.023124  1.361262  1.979241  1.834571  1.595699\n",
       "b  1.869244  1.601150  1.002771  1.880024  1.976524\n",
       "c  1.532271  1.669598  1.088552  1.291433  1.635430\n",
       "d  1.770113  1.818070  1.726456  1.864664  1.719879"
      ]
     },
     "execution_count": 32,
     "metadata": {},
     "output_type": "execute_result"
    }
   ],
   "source": [
    "# we can do the scalar operation on the dataframe\n",
    "some_df_1 = some_df + 1\n",
    "some_df_1"
   ]
  },
  {
   "cell_type": "code",
   "execution_count": 33,
   "metadata": {},
   "outputs": [
    {
     "data": {
      "text/html": [
       "<div>\n",
       "<style scoped>\n",
       "    .dataframe tbody tr th:only-of-type {\n",
       "        vertical-align: middle;\n",
       "    }\n",
       "\n",
       "    .dataframe tbody tr th {\n",
       "        vertical-align: top;\n",
       "    }\n",
       "\n",
       "    .dataframe thead th {\n",
       "        text-align: right;\n",
       "    }\n",
       "</style>\n",
       "<table border=\"1\" class=\"dataframe\">\n",
       "  <thead>\n",
       "    <tr style=\"text-align: right;\">\n",
       "      <th></th>\n",
       "      <th>c1</th>\n",
       "      <th>c2</th>\n",
       "      <th>c3</th>\n",
       "      <th>c4</th>\n",
       "      <th>c5</th>\n",
       "    </tr>\n",
       "  </thead>\n",
       "  <tbody>\n",
       "    <tr>\n",
       "      <th>a</th>\n",
       "      <td>1.046247</td>\n",
       "      <td>1.722523</td>\n",
       "      <td>2.958482</td>\n",
       "      <td>2.669142</td>\n",
       "      <td>2.191398</td>\n",
       "    </tr>\n",
       "    <tr>\n",
       "      <th>b</th>\n",
       "      <td>2.738489</td>\n",
       "      <td>2.202300</td>\n",
       "      <td>1.005542</td>\n",
       "      <td>2.760049</td>\n",
       "      <td>2.953047</td>\n",
       "    </tr>\n",
       "    <tr>\n",
       "      <th>c</th>\n",
       "      <td>2.064542</td>\n",
       "      <td>2.339196</td>\n",
       "      <td>1.177103</td>\n",
       "      <td>1.582866</td>\n",
       "      <td>2.270861</td>\n",
       "    </tr>\n",
       "    <tr>\n",
       "      <th>d</th>\n",
       "      <td>2.540227</td>\n",
       "      <td>2.636140</td>\n",
       "      <td>2.452913</td>\n",
       "      <td>2.729328</td>\n",
       "      <td>2.439758</td>\n",
       "    </tr>\n",
       "  </tbody>\n",
       "</table>\n",
       "</div>"
      ],
      "text/plain": [
       "         c1        c2        c3        c4        c5\n",
       "a  1.046247  1.722523  2.958482  2.669142  2.191398\n",
       "b  2.738489  2.202300  1.005542  2.760049  2.953047\n",
       "c  2.064542  2.339196  1.177103  1.582866  2.270861\n",
       "d  2.540227  2.636140  2.452913  2.729328  2.439758"
      ]
     },
     "execution_count": 33,
     "metadata": {},
     "output_type": "execute_result"
    }
   ],
   "source": [
    "# we can add two dataframes\n",
    "some_df_2 = some_df_1 + some_df\n",
    "some_df_2"
   ]
  },
  {
   "cell_type": "code",
   "execution_count": 34,
   "metadata": {},
   "outputs": [
    {
     "data": {
      "text/html": [
       "<div>\n",
       "<style scoped>\n",
       "    .dataframe tbody tr th:only-of-type {\n",
       "        vertical-align: middle;\n",
       "    }\n",
       "\n",
       "    .dataframe tbody tr th {\n",
       "        vertical-align: top;\n",
       "    }\n",
       "\n",
       "    .dataframe thead th {\n",
       "        text-align: right;\n",
       "    }\n",
       "</style>\n",
       "<table border=\"1\" class=\"dataframe\">\n",
       "  <thead>\n",
       "    <tr style=\"text-align: right;\">\n",
       "      <th></th>\n",
       "      <th>c1</th>\n",
       "      <th>c2</th>\n",
       "      <th>c3</th>\n",
       "      <th>c4</th>\n",
       "      <th>c5</th>\n",
       "    </tr>\n",
       "  </thead>\n",
       "  <tbody>\n",
       "    <tr>\n",
       "      <th>a</th>\n",
       "      <td>1.069371</td>\n",
       "      <td>2.083785</td>\n",
       "      <td>3.937723</td>\n",
       "      <td>3.503713</td>\n",
       "      <td>2.787097</td>\n",
       "    </tr>\n",
       "    <tr>\n",
       "      <th>b</th>\n",
       "      <td>NaN</td>\n",
       "      <td>NaN</td>\n",
       "      <td>NaN</td>\n",
       "      <td>NaN</td>\n",
       "      <td>NaN</td>\n",
       "    </tr>\n",
       "    <tr>\n",
       "      <th>c</th>\n",
       "      <td>NaN</td>\n",
       "      <td>NaN</td>\n",
       "      <td>NaN</td>\n",
       "      <td>NaN</td>\n",
       "      <td>NaN</td>\n",
       "    </tr>\n",
       "    <tr>\n",
       "      <th>d</th>\n",
       "      <td>3.310340</td>\n",
       "      <td>3.454210</td>\n",
       "      <td>3.179369</td>\n",
       "      <td>3.593993</td>\n",
       "      <td>3.159637</td>\n",
       "    </tr>\n",
       "  </tbody>\n",
       "</table>\n",
       "</div>"
      ],
      "text/plain": [
       "         c1        c2        c3        c4        c5\n",
       "a  1.069371  2.083785  3.937723  3.503713  2.787097\n",
       "b       NaN       NaN       NaN       NaN       NaN\n",
       "c       NaN       NaN       NaN       NaN       NaN\n",
       "d  3.310340  3.454210  3.179369  3.593993  3.159637"
      ]
     },
     "execution_count": 34,
     "metadata": {},
     "output_type": "execute_result"
    }
   ],
   "source": [
    "# if the row/col numners doesnt match than we shall see the NaN\n",
    "# subset of row/col data shall be shown  \n",
    "some_df_2 + some_df[some_df['c3']>.5]"
   ]
  },
  {
   "cell_type": "code",
   "execution_count": 35,
   "metadata": {},
   "outputs": [
    {
     "data": {
      "text/html": [
       "<div>\n",
       "<style scoped>\n",
       "    .dataframe tbody tr th:only-of-type {\n",
       "        vertical-align: middle;\n",
       "    }\n",
       "\n",
       "    .dataframe tbody tr th {\n",
       "        vertical-align: top;\n",
       "    }\n",
       "\n",
       "    .dataframe thead th {\n",
       "        text-align: right;\n",
       "    }\n",
       "</style>\n",
       "<table border=\"1\" class=\"dataframe\">\n",
       "  <thead>\n",
       "    <tr style=\"text-align: right;\">\n",
       "      <th></th>\n",
       "      <th>c1</th>\n",
       "      <th>c2</th>\n",
       "      <th>c3</th>\n",
       "      <th>c4</th>\n",
       "      <th>c5</th>\n",
       "    </tr>\n",
       "  </thead>\n",
       "  <tbody>\n",
       "    <tr>\n",
       "      <th>a</th>\n",
       "      <td>1.069371</td>\n",
       "      <td>2.083785</td>\n",
       "      <td>3.937723</td>\n",
       "      <td>3.503713</td>\n",
       "      <td>2.787097</td>\n",
       "    </tr>\n",
       "    <tr>\n",
       "      <th>b</th>\n",
       "      <td>2.738489</td>\n",
       "      <td>2.202300</td>\n",
       "      <td>1.005542</td>\n",
       "      <td>2.760049</td>\n",
       "      <td>2.953047</td>\n",
       "    </tr>\n",
       "    <tr>\n",
       "      <th>c</th>\n",
       "      <td>2.064542</td>\n",
       "      <td>2.339196</td>\n",
       "      <td>1.177103</td>\n",
       "      <td>1.582866</td>\n",
       "      <td>2.270861</td>\n",
       "    </tr>\n",
       "    <tr>\n",
       "      <th>d</th>\n",
       "      <td>3.310340</td>\n",
       "      <td>3.454210</td>\n",
       "      <td>3.179369</td>\n",
       "      <td>3.593993</td>\n",
       "      <td>3.159637</td>\n",
       "    </tr>\n",
       "  </tbody>\n",
       "</table>\n",
       "</div>"
      ],
      "text/plain": [
       "         c1        c2        c3        c4        c5\n",
       "a  1.069371  2.083785  3.937723  3.503713  2.787097\n",
       "b  2.738489  2.202300  1.005542  2.760049  2.953047\n",
       "c  2.064542  2.339196  1.177103  1.582866  2.270861\n",
       "d  3.310340  3.454210  3.179369  3.593993  3.159637"
      ]
     },
     "execution_count": 35,
     "metadata": {},
     "output_type": "execute_result"
    }
   ],
   "source": [
    "#we can use the add function to fill some value instread of NaN\n",
    "some_df_2.add(some_df[some_df['c3']>.5], fill_value='0')"
   ]
  },
  {
   "cell_type": "code",
   "execution_count": 36,
   "metadata": {},
   "outputs": [],
   "source": [
    "#we can use the loc to get the particular row\n",
    "x = some_df_2.loc['a']"
   ]
  },
  {
   "cell_type": "code",
   "execution_count": 37,
   "metadata": {},
   "outputs": [
    {
     "data": {
      "text/plain": [
       "pandas.core.series.Series"
      ]
     },
     "execution_count": 37,
     "metadata": {},
     "output_type": "execute_result"
    }
   ],
   "source": [
    "# type of this row is series\n",
    "type(x)"
   ]
  },
  {
   "cell_type": "code",
   "execution_count": 38,
   "metadata": {},
   "outputs": [
    {
     "data": {
      "text/plain": [
       "c1    1.046247\n",
       "c2    1.722523\n",
       "c3    2.958482\n",
       "c4    2.669142\n",
       "c5    2.191398\n",
       "Name: a, dtype: float64"
      ]
     },
     "execution_count": 38,
     "metadata": {},
     "output_type": "execute_result"
    }
   ],
   "source": [
    "x"
   ]
  },
  {
   "cell_type": "code",
   "execution_count": 39,
   "metadata": {},
   "outputs": [
    {
     "data": {
      "text/html": [
       "<div>\n",
       "<style scoped>\n",
       "    .dataframe tbody tr th:only-of-type {\n",
       "        vertical-align: middle;\n",
       "    }\n",
       "\n",
       "    .dataframe tbody tr th {\n",
       "        vertical-align: top;\n",
       "    }\n",
       "\n",
       "    .dataframe thead th {\n",
       "        text-align: right;\n",
       "    }\n",
       "</style>\n",
       "<table border=\"1\" class=\"dataframe\">\n",
       "  <thead>\n",
       "    <tr style=\"text-align: right;\">\n",
       "      <th></th>\n",
       "      <th>c1</th>\n",
       "      <th>c2</th>\n",
       "      <th>c3</th>\n",
       "      <th>c4</th>\n",
       "      <th>c5</th>\n",
       "    </tr>\n",
       "  </thead>\n",
       "  <tbody>\n",
       "    <tr>\n",
       "      <th>a</th>\n",
       "      <td>0.000000</td>\n",
       "      <td>0.000000</td>\n",
       "      <td>0.000000</td>\n",
       "      <td>0.000000</td>\n",
       "      <td>0.000000</td>\n",
       "    </tr>\n",
       "    <tr>\n",
       "      <th>b</th>\n",
       "      <td>1.692242</td>\n",
       "      <td>0.479777</td>\n",
       "      <td>-1.952940</td>\n",
       "      <td>0.090906</td>\n",
       "      <td>0.761650</td>\n",
       "    </tr>\n",
       "    <tr>\n",
       "      <th>c</th>\n",
       "      <td>1.018295</td>\n",
       "      <td>0.616672</td>\n",
       "      <td>-1.781379</td>\n",
       "      <td>-1.086276</td>\n",
       "      <td>0.079463</td>\n",
       "    </tr>\n",
       "    <tr>\n",
       "      <th>d</th>\n",
       "      <td>1.493979</td>\n",
       "      <td>0.913617</td>\n",
       "      <td>-0.505569</td>\n",
       "      <td>0.060186</td>\n",
       "      <td>0.248360</td>\n",
       "    </tr>\n",
       "  </tbody>\n",
       "</table>\n",
       "</div>"
      ],
      "text/plain": [
       "         c1        c2        c3        c4        c5\n",
       "a  0.000000  0.000000  0.000000  0.000000  0.000000\n",
       "b  1.692242  0.479777 -1.952940  0.090906  0.761650\n",
       "c  1.018295  0.616672 -1.781379 -1.086276  0.079463\n",
       "d  1.493979  0.913617 -0.505569  0.060186  0.248360"
      ]
     },
     "execution_count": 39,
     "metadata": {},
     "output_type": "execute_result"
    }
   ],
   "source": [
    "# we can do operation like addition, substraction etc between dataFrame and Series\n",
    "# the value of series shall be deducted from every row\n",
    "some_df_2 - x"
   ]
  },
  {
   "cell_type": "code",
   "execution_count": 40,
   "metadata": {},
   "outputs": [
    {
     "data": {
      "text/html": [
       "<div>\n",
       "<style scoped>\n",
       "    .dataframe tbody tr th:only-of-type {\n",
       "        vertical-align: middle;\n",
       "    }\n",
       "\n",
       "    .dataframe tbody tr th {\n",
       "        vertical-align: top;\n",
       "    }\n",
       "\n",
       "    .dataframe thead th {\n",
       "        text-align: right;\n",
       "    }\n",
       "</style>\n",
       "<table border=\"1\" class=\"dataframe\">\n",
       "  <thead>\n",
       "    <tr style=\"text-align: right;\">\n",
       "      <th></th>\n",
       "      <th>c1</th>\n",
       "      <th>c2</th>\n",
       "      <th>c3</th>\n",
       "      <th>c4</th>\n",
       "      <th>c5</th>\n",
       "    </tr>\n",
       "  </thead>\n",
       "  <tbody>\n",
       "    <tr>\n",
       "      <th>a</th>\n",
       "      <td>0.604141</td>\n",
       "      <td>0.895063</td>\n",
       "      <td>0.967133</td>\n",
       "      <td>0.740172</td>\n",
       "      <td>0.332916</td>\n",
       "    </tr>\n",
       "    <tr>\n",
       "      <th>b</th>\n",
       "      <td>0.790845</td>\n",
       "      <td>0.919555</td>\n",
       "      <td>0.238412</td>\n",
       "      <td>0.880845</td>\n",
       "      <td>0.734552</td>\n",
       "    </tr>\n",
       "    <tr>\n",
       "      <th>c</th>\n",
       "      <td>0.685157</td>\n",
       "      <td>0.997906</td>\n",
       "      <td>0.265529</td>\n",
       "      <td>0.453763</td>\n",
       "      <td>0.509011</td>\n",
       "    </tr>\n",
       "    <tr>\n",
       "      <th>d</th>\n",
       "      <td>0.824808</td>\n",
       "      <td>0.294703</td>\n",
       "      <td>0.145859</td>\n",
       "      <td>0.293337</td>\n",
       "      <td>0.395556</td>\n",
       "    </tr>\n",
       "    <tr>\n",
       "      <th>e</th>\n",
       "      <td>0.684641</td>\n",
       "      <td>0.758851</td>\n",
       "      <td>0.278872</td>\n",
       "      <td>0.696433</td>\n",
       "      <td>0.720534</td>\n",
       "    </tr>\n",
       "    <tr>\n",
       "      <th>f</th>\n",
       "      <td>0.906215</td>\n",
       "      <td>0.103272</td>\n",
       "      <td>0.532829</td>\n",
       "      <td>0.962328</td>\n",
       "      <td>0.097048</td>\n",
       "    </tr>\n",
       "  </tbody>\n",
       "</table>\n",
       "</div>"
      ],
      "text/plain": [
       "         c1        c2        c3        c4        c5\n",
       "a  0.604141  0.895063  0.967133  0.740172  0.332916\n",
       "b  0.790845  0.919555  0.238412  0.880845  0.734552\n",
       "c  0.685157  0.997906  0.265529  0.453763  0.509011\n",
       "d  0.824808  0.294703  0.145859  0.293337  0.395556\n",
       "e  0.684641  0.758851  0.278872  0.696433  0.720534\n",
       "f  0.906215  0.103272  0.532829  0.962328  0.097048"
      ]
     },
     "execution_count": 40,
     "metadata": {},
     "output_type": "execute_result"
    }
   ],
   "source": [
    "new_df = pd.DataFrame(np.random.rand(30).reshape(6,5), index=['a','b','c','d','e','f'], columns=['c1','c2','c3','c4','c5'])\n",
    "new_df"
   ]
  },
  {
   "cell_type": "code",
   "execution_count": 41,
   "metadata": {},
   "outputs": [
    {
     "data": {
      "text/plain": [
       "c1    4.495808\n",
       "c2    3.969349\n",
       "c3    2.428634\n",
       "c4    4.026878\n",
       "c5    2.789616\n",
       "dtype: float64"
      ]
     },
     "execution_count": 41,
     "metadata": {},
     "output_type": "execute_result"
    }
   ],
   "source": [
    "# pandas supports sum operation\n",
    "# default behaviour is to sum all the cols\n",
    "new_df.sum()"
   ]
  },
  {
   "cell_type": "code",
   "execution_count": 42,
   "metadata": {},
   "outputs": [
    {
     "data": {
      "text/plain": [
       "a    3.539425\n",
       "b    3.564209\n",
       "c    2.911365\n",
       "d    1.954263\n",
       "e    3.139331\n",
       "f    2.601692\n",
       "dtype: float64"
      ]
     },
     "execution_count": 42,
     "metadata": {},
     "output_type": "execute_result"
    }
   ],
   "source": [
    "# we can specify the axis as 1 to do sum based on rows \n",
    "new_df.sum(axis=1)"
   ]
  },
  {
   "cell_type": "code",
   "execution_count": 43,
   "metadata": {},
   "outputs": [
    {
     "data": {
      "text/plain": [
       "c1    0.604141\n",
       "c2    0.103272\n",
       "c3    0.145859\n",
       "c4    0.293337\n",
       "c5    0.097048\n",
       "dtype: float64"
      ]
     },
     "execution_count": 43,
     "metadata": {},
     "output_type": "execute_result"
    }
   ],
   "source": [
    "# we can pass the axis to get min of each row, here we using default\n",
    "new_df.min()"
   ]
  },
  {
   "cell_type": "code",
   "execution_count": 44,
   "metadata": {},
   "outputs": [
    {
     "data": {
      "text/plain": [
       "a    0.967133\n",
       "b    0.919555\n",
       "c    0.997906\n",
       "d    0.824808\n",
       "e    0.758851\n",
       "f    0.962328\n",
       "dtype: float64"
      ]
     },
     "execution_count": 44,
     "metadata": {},
     "output_type": "execute_result"
    }
   ],
   "source": [
    "# we can also get the max values\n",
    "new_df.max(axis=1)"
   ]
  },
  {
   "cell_type": "code",
   "execution_count": 45,
   "metadata": {},
   "outputs": [
    {
     "data": {
      "text/plain": [
       "c1    a\n",
       "c2    f\n",
       "c3    d\n",
       "c4    d\n",
       "c5    f\n",
       "dtype: object"
      ]
     },
     "execution_count": 45,
     "metadata": {},
     "output_type": "execute_result"
    }
   ],
   "source": [
    "#we can get the index information for the minimum value \n",
    "new_df.idxmin()"
   ]
  },
  {
   "cell_type": "code",
   "execution_count": 46,
   "metadata": {},
   "outputs": [
    {
     "data": {
      "text/plain": [
       "a    c3\n",
       "b    c2\n",
       "c    c2\n",
       "d    c1\n",
       "e    c2\n",
       "f    c4\n",
       "dtype: object"
      ]
     },
     "execution_count": 46,
     "metadata": {},
     "output_type": "execute_result"
    }
   ],
   "source": [
    "#we can get the index information for the max values\n",
    "new_df.idxmax(axis=1)"
   ]
  },
  {
   "cell_type": "code",
   "execution_count": 47,
   "metadata": {},
   "outputs": [
    {
     "data": {
      "text/html": [
       "<div>\n",
       "<style scoped>\n",
       "    .dataframe tbody tr th:only-of-type {\n",
       "        vertical-align: middle;\n",
       "    }\n",
       "\n",
       "    .dataframe tbody tr th {\n",
       "        vertical-align: top;\n",
       "    }\n",
       "\n",
       "    .dataframe thead th {\n",
       "        text-align: right;\n",
       "    }\n",
       "</style>\n",
       "<table border=\"1\" class=\"dataframe\">\n",
       "  <thead>\n",
       "    <tr style=\"text-align: right;\">\n",
       "      <th></th>\n",
       "      <th>c1</th>\n",
       "      <th>c2</th>\n",
       "      <th>c3</th>\n",
       "      <th>c4</th>\n",
       "      <th>c5</th>\n",
       "    </tr>\n",
       "  </thead>\n",
       "  <tbody>\n",
       "    <tr>\n",
       "      <th>a</th>\n",
       "      <td>0.604141</td>\n",
       "      <td>0.895063</td>\n",
       "      <td>0.967133</td>\n",
       "      <td>0.740172</td>\n",
       "      <td>0.332916</td>\n",
       "    </tr>\n",
       "    <tr>\n",
       "      <th>b</th>\n",
       "      <td>0.790845</td>\n",
       "      <td>0.919555</td>\n",
       "      <td>0.238412</td>\n",
       "      <td>0.880845</td>\n",
       "      <td>0.734552</td>\n",
       "    </tr>\n",
       "    <tr>\n",
       "      <th>c</th>\n",
       "      <td>0.685157</td>\n",
       "      <td>0.997906</td>\n",
       "      <td>0.265529</td>\n",
       "      <td>0.453763</td>\n",
       "      <td>0.509011</td>\n",
       "    </tr>\n",
       "    <tr>\n",
       "      <th>d</th>\n",
       "      <td>0.824808</td>\n",
       "      <td>0.294703</td>\n",
       "      <td>0.145859</td>\n",
       "      <td>0.293337</td>\n",
       "      <td>0.395556</td>\n",
       "    </tr>\n",
       "    <tr>\n",
       "      <th>e</th>\n",
       "      <td>0.684641</td>\n",
       "      <td>0.758851</td>\n",
       "      <td>0.278872</td>\n",
       "      <td>0.696433</td>\n",
       "      <td>0.720534</td>\n",
       "    </tr>\n",
       "    <tr>\n",
       "      <th>f</th>\n",
       "      <td>0.906215</td>\n",
       "      <td>0.103272</td>\n",
       "      <td>0.532829</td>\n",
       "      <td>0.962328</td>\n",
       "      <td>0.097048</td>\n",
       "    </tr>\n",
       "  </tbody>\n",
       "</table>\n",
       "</div>"
      ],
      "text/plain": [
       "         c1        c2        c3        c4        c5\n",
       "a  0.604141  0.895063  0.967133  0.740172  0.332916\n",
       "b  0.790845  0.919555  0.238412  0.880845  0.734552\n",
       "c  0.685157  0.997906  0.265529  0.453763  0.509011\n",
       "d  0.824808  0.294703  0.145859  0.293337  0.395556\n",
       "e  0.684641  0.758851  0.278872  0.696433  0.720534\n",
       "f  0.906215  0.103272  0.532829  0.962328  0.097048"
      ]
     },
     "execution_count": 47,
     "metadata": {},
     "output_type": "execute_result"
    }
   ],
   "source": [
    "new_df"
   ]
  },
  {
   "cell_type": "code",
   "execution_count": 48,
   "metadata": {},
   "outputs": [
    {
     "data": {
      "text/html": [
       "<div>\n",
       "<style scoped>\n",
       "    .dataframe tbody tr th:only-of-type {\n",
       "        vertical-align: middle;\n",
       "    }\n",
       "\n",
       "    .dataframe tbody tr th {\n",
       "        vertical-align: top;\n",
       "    }\n",
       "\n",
       "    .dataframe thead th {\n",
       "        text-align: right;\n",
       "    }\n",
       "</style>\n",
       "<table border=\"1\" class=\"dataframe\">\n",
       "  <thead>\n",
       "    <tr style=\"text-align: right;\">\n",
       "      <th></th>\n",
       "      <th>c1</th>\n",
       "      <th>c2</th>\n",
       "      <th>c3</th>\n",
       "      <th>c4</th>\n",
       "      <th>c5</th>\n",
       "    </tr>\n",
       "  </thead>\n",
       "  <tbody>\n",
       "    <tr>\n",
       "      <th>a</th>\n",
       "      <td>0.604141</td>\n",
       "      <td>0.895063</td>\n",
       "      <td>0.967133</td>\n",
       "      <td>0.740172</td>\n",
       "      <td>0.332916</td>\n",
       "    </tr>\n",
       "    <tr>\n",
       "      <th>b</th>\n",
       "      <td>1.394986</td>\n",
       "      <td>1.814618</td>\n",
       "      <td>1.205545</td>\n",
       "      <td>1.621018</td>\n",
       "      <td>1.067468</td>\n",
       "    </tr>\n",
       "    <tr>\n",
       "      <th>c</th>\n",
       "      <td>2.080144</td>\n",
       "      <td>2.812524</td>\n",
       "      <td>1.471074</td>\n",
       "      <td>2.074780</td>\n",
       "      <td>1.576478</td>\n",
       "    </tr>\n",
       "    <tr>\n",
       "      <th>d</th>\n",
       "      <td>2.904951</td>\n",
       "      <td>3.107227</td>\n",
       "      <td>1.616933</td>\n",
       "      <td>2.368117</td>\n",
       "      <td>1.972035</td>\n",
       "    </tr>\n",
       "    <tr>\n",
       "      <th>e</th>\n",
       "      <td>3.589593</td>\n",
       "      <td>3.866077</td>\n",
       "      <td>1.895805</td>\n",
       "      <td>3.064550</td>\n",
       "      <td>2.692568</td>\n",
       "    </tr>\n",
       "    <tr>\n",
       "      <th>f</th>\n",
       "      <td>4.495808</td>\n",
       "      <td>3.969349</td>\n",
       "      <td>2.428634</td>\n",
       "      <td>4.026878</td>\n",
       "      <td>2.789616</td>\n",
       "    </tr>\n",
       "  </tbody>\n",
       "</table>\n",
       "</div>"
      ],
      "text/plain": [
       "         c1        c2        c3        c4        c5\n",
       "a  0.604141  0.895063  0.967133  0.740172  0.332916\n",
       "b  1.394986  1.814618  1.205545  1.621018  1.067468\n",
       "c  2.080144  2.812524  1.471074  2.074780  1.576478\n",
       "d  2.904951  3.107227  1.616933  2.368117  1.972035\n",
       "e  3.589593  3.866077  1.895805  3.064550  2.692568\n",
       "f  4.495808  3.969349  2.428634  4.026878  2.789616"
      ]
     },
     "execution_count": 48,
     "metadata": {},
     "output_type": "execute_result"
    }
   ],
   "source": [
    "# we can get the cumilative sum\n",
    "new_df.cumsum()"
   ]
  },
  {
   "cell_type": "code",
   "execution_count": 49,
   "metadata": {},
   "outputs": [
    {
     "data": {
      "text/plain": [
       "c1    0.110830\n",
       "c2    0.371470\n",
       "c3    0.304171\n",
       "c4    0.254621\n",
       "c5    0.243947\n",
       "dtype: float64"
      ]
     },
     "execution_count": 49,
     "metadata": {},
     "output_type": "execute_result"
    }
   ],
   "source": [
    "new_df.std()"
   ]
  },
  {
   "cell_type": "code",
   "execution_count": 50,
   "metadata": {},
   "outputs": [
    {
     "data": {
      "text/html": [
       "<div>\n",
       "<style scoped>\n",
       "    .dataframe tbody tr th:only-of-type {\n",
       "        vertical-align: middle;\n",
       "    }\n",
       "\n",
       "    .dataframe tbody tr th {\n",
       "        vertical-align: top;\n",
       "    }\n",
       "\n",
       "    .dataframe thead th {\n",
       "        text-align: right;\n",
       "    }\n",
       "</style>\n",
       "<table border=\"1\" class=\"dataframe\">\n",
       "  <thead>\n",
       "    <tr style=\"text-align: right;\">\n",
       "      <th></th>\n",
       "      <th>c1</th>\n",
       "      <th>c2</th>\n",
       "      <th>c3</th>\n",
       "      <th>c4</th>\n",
       "      <th>c5</th>\n",
       "    </tr>\n",
       "  </thead>\n",
       "  <tbody>\n",
       "    <tr>\n",
       "      <th>count</th>\n",
       "      <td>6.000000</td>\n",
       "      <td>6.000000</td>\n",
       "      <td>6.000000</td>\n",
       "      <td>6.000000</td>\n",
       "      <td>6.000000</td>\n",
       "    </tr>\n",
       "    <tr>\n",
       "      <th>mean</th>\n",
       "      <td>0.749301</td>\n",
       "      <td>0.661558</td>\n",
       "      <td>0.404772</td>\n",
       "      <td>0.671146</td>\n",
       "      <td>0.464936</td>\n",
       "    </tr>\n",
       "    <tr>\n",
       "      <th>std</th>\n",
       "      <td>0.110830</td>\n",
       "      <td>0.371470</td>\n",
       "      <td>0.304171</td>\n",
       "      <td>0.254621</td>\n",
       "      <td>0.243947</td>\n",
       "    </tr>\n",
       "    <tr>\n",
       "      <th>min</th>\n",
       "      <td>0.604141</td>\n",
       "      <td>0.103272</td>\n",
       "      <td>0.145859</td>\n",
       "      <td>0.293337</td>\n",
       "      <td>0.097048</td>\n",
       "    </tr>\n",
       "    <tr>\n",
       "      <th>25%</th>\n",
       "      <td>0.684770</td>\n",
       "      <td>0.410740</td>\n",
       "      <td>0.245191</td>\n",
       "      <td>0.514430</td>\n",
       "      <td>0.348576</td>\n",
       "    </tr>\n",
       "    <tr>\n",
       "      <th>50%</th>\n",
       "      <td>0.738001</td>\n",
       "      <td>0.826957</td>\n",
       "      <td>0.272201</td>\n",
       "      <td>0.718303</td>\n",
       "      <td>0.452284</td>\n",
       "    </tr>\n",
       "    <tr>\n",
       "      <th>75%</th>\n",
       "      <td>0.816317</td>\n",
       "      <td>0.913432</td>\n",
       "      <td>0.469340</td>\n",
       "      <td>0.845677</td>\n",
       "      <td>0.667653</td>\n",
       "    </tr>\n",
       "    <tr>\n",
       "      <th>max</th>\n",
       "      <td>0.906215</td>\n",
       "      <td>0.997906</td>\n",
       "      <td>0.967133</td>\n",
       "      <td>0.962328</td>\n",
       "      <td>0.734552</td>\n",
       "    </tr>\n",
       "  </tbody>\n",
       "</table>\n",
       "</div>"
      ],
      "text/plain": [
       "             c1        c2        c3        c4        c5\n",
       "count  6.000000  6.000000  6.000000  6.000000  6.000000\n",
       "mean   0.749301  0.661558  0.404772  0.671146  0.464936\n",
       "std    0.110830  0.371470  0.304171  0.254621  0.243947\n",
       "min    0.604141  0.103272  0.145859  0.293337  0.097048\n",
       "25%    0.684770  0.410740  0.245191  0.514430  0.348576\n",
       "50%    0.738001  0.826957  0.272201  0.718303  0.452284\n",
       "75%    0.816317  0.913432  0.469340  0.845677  0.667653\n",
       "max    0.906215  0.997906  0.967133  0.962328  0.734552"
      ]
     },
     "execution_count": 50,
     "metadata": {},
     "output_type": "execute_result"
    }
   ],
   "source": [
    "# pandas also has a descrive function, which shows us some basic statistic information about the dataframe\n",
    "new_df.describe()"
   ]
  },
  {
   "cell_type": "code",
   "execution_count": 51,
   "metadata": {},
   "outputs": [
    {
     "data": {
      "text/html": [
       "<div>\n",
       "<style scoped>\n",
       "    .dataframe tbody tr th:only-of-type {\n",
       "        vertical-align: middle;\n",
       "    }\n",
       "\n",
       "    .dataframe tbody tr th {\n",
       "        vertical-align: top;\n",
       "    }\n",
       "\n",
       "    .dataframe thead th {\n",
       "        text-align: right;\n",
       "    }\n",
       "</style>\n",
       "<table border=\"1\" class=\"dataframe\">\n",
       "  <thead>\n",
       "    <tr style=\"text-align: right;\">\n",
       "      <th></th>\n",
       "      <th>c1</th>\n",
       "      <th>c2</th>\n",
       "      <th>c3</th>\n",
       "      <th>c4</th>\n",
       "      <th>c5</th>\n",
       "    </tr>\n",
       "  </thead>\n",
       "  <tbody>\n",
       "    <tr>\n",
       "      <th>count</th>\n",
       "      <td>6.000000</td>\n",
       "      <td>6.000000</td>\n",
       "      <td>6.000000</td>\n",
       "      <td>6.000000</td>\n",
       "      <td>6.000000</td>\n",
       "    </tr>\n",
       "    <tr>\n",
       "      <th>mean</th>\n",
       "      <td>0.749301</td>\n",
       "      <td>0.661558</td>\n",
       "      <td>0.404772</td>\n",
       "      <td>0.671146</td>\n",
       "      <td>0.464936</td>\n",
       "    </tr>\n",
       "    <tr>\n",
       "      <th>std</th>\n",
       "      <td>0.110830</td>\n",
       "      <td>0.371470</td>\n",
       "      <td>0.304171</td>\n",
       "      <td>0.254621</td>\n",
       "      <td>0.243947</td>\n",
       "    </tr>\n",
       "    <tr>\n",
       "      <th>min</th>\n",
       "      <td>0.604141</td>\n",
       "      <td>0.103272</td>\n",
       "      <td>0.145859</td>\n",
       "      <td>0.293337</td>\n",
       "      <td>0.097048</td>\n",
       "    </tr>\n",
       "    <tr>\n",
       "      <th>25%</th>\n",
       "      <td>0.684770</td>\n",
       "      <td>0.410740</td>\n",
       "      <td>0.245191</td>\n",
       "      <td>0.514430</td>\n",
       "      <td>0.348576</td>\n",
       "    </tr>\n",
       "    <tr>\n",
       "      <th>50%</th>\n",
       "      <td>0.738001</td>\n",
       "      <td>0.826957</td>\n",
       "      <td>0.272201</td>\n",
       "      <td>0.718303</td>\n",
       "      <td>0.452284</td>\n",
       "    </tr>\n",
       "    <tr>\n",
       "      <th>75%</th>\n",
       "      <td>0.816317</td>\n",
       "      <td>0.913432</td>\n",
       "      <td>0.469340</td>\n",
       "      <td>0.845677</td>\n",
       "      <td>0.667653</td>\n",
       "    </tr>\n",
       "    <tr>\n",
       "      <th>max</th>\n",
       "      <td>0.906215</td>\n",
       "      <td>0.997906</td>\n",
       "      <td>0.967133</td>\n",
       "      <td>0.962328</td>\n",
       "      <td>0.734552</td>\n",
       "    </tr>\n",
       "  </tbody>\n",
       "</table>\n",
       "</div>"
      ],
      "text/plain": [
       "             c1        c2        c3        c4        c5\n",
       "count  6.000000  6.000000  6.000000  6.000000  6.000000\n",
       "mean   0.749301  0.661558  0.404772  0.671146  0.464936\n",
       "std    0.110830  0.371470  0.304171  0.254621  0.243947\n",
       "min    0.604141  0.103272  0.145859  0.293337  0.097048\n",
       "25%    0.684770  0.410740  0.245191  0.514430  0.348576\n",
       "50%    0.738001  0.826957  0.272201  0.718303  0.452284\n",
       "75%    0.816317  0.913432  0.469340  0.845677  0.667653\n",
       "max    0.906215  0.997906  0.967133  0.962328  0.734552"
      ]
     },
     "execution_count": 51,
     "metadata": {},
     "output_type": "execute_result"
    }
   ],
   "source": [
    "# describe doesnt support axis flag currently\n",
    "new_df.describe()"
   ]
  },
  {
   "cell_type": "code",
   "execution_count": 52,
   "metadata": {},
   "outputs": [
    {
     "data": {
      "text/plain": [
       "c1    0.749301\n",
       "c2    0.661558\n",
       "c3    0.404772\n",
       "c4    0.671146\n",
       "c5    0.464936\n",
       "dtype: float64"
      ]
     },
     "execution_count": 52,
     "metadata": {},
     "output_type": "execute_result"
    }
   ],
   "source": [
    "new_df.mean()"
   ]
  },
  {
   "cell_type": "code",
   "execution_count": 53,
   "metadata": {},
   "outputs": [
    {
     "data": {
      "text/plain": [
       "a    0.707885\n",
       "b    0.712842\n",
       "c    0.582273\n",
       "d    0.390853\n",
       "e    0.627866\n",
       "f    0.520338\n",
       "dtype: float64"
      ]
     },
     "execution_count": 53,
     "metadata": {},
     "output_type": "execute_result"
    }
   ],
   "source": [
    "new_df.mean(axis=1)"
   ]
  },
  {
   "cell_type": "code",
   "execution_count": 54,
   "metadata": {},
   "outputs": [
    {
     "data": {
      "text/html": [
       "<div>\n",
       "<style scoped>\n",
       "    .dataframe tbody tr th:only-of-type {\n",
       "        vertical-align: middle;\n",
       "    }\n",
       "\n",
       "    .dataframe tbody tr th {\n",
       "        vertical-align: top;\n",
       "    }\n",
       "\n",
       "    .dataframe thead th {\n",
       "        text-align: right;\n",
       "    }\n",
       "</style>\n",
       "<table border=\"1\" class=\"dataframe\">\n",
       "  <thead>\n",
       "    <tr style=\"text-align: right;\">\n",
       "      <th></th>\n",
       "      <th>c1</th>\n",
       "      <th>c2</th>\n",
       "      <th>c3</th>\n",
       "      <th>c4</th>\n",
       "      <th>c5</th>\n",
       "    </tr>\n",
       "  </thead>\n",
       "  <tbody>\n",
       "    <tr>\n",
       "      <th>a</th>\n",
       "      <td>0.604141</td>\n",
       "      <td>0.895063</td>\n",
       "      <td>0.967133</td>\n",
       "      <td>0.740172</td>\n",
       "      <td>0.332916</td>\n",
       "    </tr>\n",
       "    <tr>\n",
       "      <th>b</th>\n",
       "      <td>0.790845</td>\n",
       "      <td>0.919555</td>\n",
       "      <td>0.238412</td>\n",
       "      <td>0.880845</td>\n",
       "      <td>0.734552</td>\n",
       "    </tr>\n",
       "    <tr>\n",
       "      <th>c</th>\n",
       "      <td>0.685157</td>\n",
       "      <td>0.997906</td>\n",
       "      <td>0.265529</td>\n",
       "      <td>0.453763</td>\n",
       "      <td>0.509011</td>\n",
       "    </tr>\n",
       "    <tr>\n",
       "      <th>d</th>\n",
       "      <td>0.824808</td>\n",
       "      <td>0.294703</td>\n",
       "      <td>0.145859</td>\n",
       "      <td>0.293337</td>\n",
       "      <td>0.395556</td>\n",
       "    </tr>\n",
       "    <tr>\n",
       "      <th>e</th>\n",
       "      <td>0.684641</td>\n",
       "      <td>0.758851</td>\n",
       "      <td>0.278872</td>\n",
       "      <td>0.696433</td>\n",
       "      <td>0.720534</td>\n",
       "    </tr>\n",
       "    <tr>\n",
       "      <th>f</th>\n",
       "      <td>0.906215</td>\n",
       "      <td>0.103272</td>\n",
       "      <td>0.532829</td>\n",
       "      <td>0.962328</td>\n",
       "      <td>0.097048</td>\n",
       "    </tr>\n",
       "  </tbody>\n",
       "</table>\n",
       "</div>"
      ],
      "text/plain": [
       "         c1        c2        c3        c4        c5\n",
       "a  0.604141  0.895063  0.967133  0.740172  0.332916\n",
       "b  0.790845  0.919555  0.238412  0.880845  0.734552\n",
       "c  0.685157  0.997906  0.265529  0.453763  0.509011\n",
       "d  0.824808  0.294703  0.145859  0.293337  0.395556\n",
       "e  0.684641  0.758851  0.278872  0.696433  0.720534\n",
       "f  0.906215  0.103272  0.532829  0.962328  0.097048"
      ]
     },
     "execution_count": 54,
     "metadata": {},
     "output_type": "execute_result"
    }
   ],
   "source": [
    "new_df\n"
   ]
  },
  {
   "cell_type": "code",
   "execution_count": 55,
   "metadata": {},
   "outputs": [
    {
     "data": {
      "text/html": [
       "<div>\n",
       "<style scoped>\n",
       "    .dataframe tbody tr th:only-of-type {\n",
       "        vertical-align: middle;\n",
       "    }\n",
       "\n",
       "    .dataframe tbody tr th {\n",
       "        vertical-align: top;\n",
       "    }\n",
       "\n",
       "    .dataframe thead th {\n",
       "        text-align: right;\n",
       "    }\n",
       "</style>\n",
       "<table border=\"1\" class=\"dataframe\">\n",
       "  <thead>\n",
       "    <tr style=\"text-align: right;\">\n",
       "      <th></th>\n",
       "      <th>c1</th>\n",
       "      <th>c2</th>\n",
       "      <th>c3</th>\n",
       "      <th>c4</th>\n",
       "      <th>c5</th>\n",
       "    </tr>\n",
       "  </thead>\n",
       "  <tbody>\n",
       "    <tr>\n",
       "      <th>a</th>\n",
       "      <td>NaN</td>\n",
       "      <td>0.481546</td>\n",
       "      <td>0.080520</td>\n",
       "      <td>-0.234674</td>\n",
       "      <td>-0.550218</td>\n",
       "    </tr>\n",
       "    <tr>\n",
       "      <th>b</th>\n",
       "      <td>NaN</td>\n",
       "      <td>0.162750</td>\n",
       "      <td>-0.740732</td>\n",
       "      <td>2.694642</td>\n",
       "      <td>-0.166083</td>\n",
       "    </tr>\n",
       "    <tr>\n",
       "      <th>c</th>\n",
       "      <td>NaN</td>\n",
       "      <td>0.456462</td>\n",
       "      <td>-0.733914</td>\n",
       "      <td>0.708901</td>\n",
       "      <td>0.121755</td>\n",
       "    </tr>\n",
       "    <tr>\n",
       "      <th>d</th>\n",
       "      <td>NaN</td>\n",
       "      <td>-0.642701</td>\n",
       "      <td>-0.505064</td>\n",
       "      <td>1.011095</td>\n",
       "      <td>0.348473</td>\n",
       "    </tr>\n",
       "    <tr>\n",
       "      <th>e</th>\n",
       "      <td>NaN</td>\n",
       "      <td>0.108392</td>\n",
       "      <td>-0.632507</td>\n",
       "      <td>1.497317</td>\n",
       "      <td>0.034606</td>\n",
       "    </tr>\n",
       "    <tr>\n",
       "      <th>f</th>\n",
       "      <td>NaN</td>\n",
       "      <td>-0.886040</td>\n",
       "      <td>4.159477</td>\n",
       "      <td>0.806074</td>\n",
       "      <td>-0.899153</td>\n",
       "    </tr>\n",
       "  </tbody>\n",
       "</table>\n",
       "</div>"
      ],
      "text/plain": [
       "   c1        c2        c3        c4        c5\n",
       "a NaN  0.481546  0.080520 -0.234674 -0.550218\n",
       "b NaN  0.162750 -0.740732  2.694642 -0.166083\n",
       "c NaN  0.456462 -0.733914  0.708901  0.121755\n",
       "d NaN -0.642701 -0.505064  1.011095  0.348473\n",
       "e NaN  0.108392 -0.632507  1.497317  0.034606\n",
       "f NaN -0.886040  4.159477  0.806074 -0.899153"
      ]
     },
     "execution_count": 55,
     "metadata": {},
     "output_type": "execute_result"
    }
   ],
   "source": [
    "# we can get the percentage change between the values\n",
    "# axis option is supported \n",
    "# value used as base value converted to NaN\n",
    "cnew_df = new_df.pct_change(axis=1)\n",
    "cnew_df"
   ]
  },
  {
   "cell_type": "code",
   "execution_count": 56,
   "metadata": {},
   "outputs": [
    {
     "data": {
      "text/html": [
       "<div>\n",
       "<style scoped>\n",
       "    .dataframe tbody tr th:only-of-type {\n",
       "        vertical-align: middle;\n",
       "    }\n",
       "\n",
       "    .dataframe tbody tr th {\n",
       "        vertical-align: top;\n",
       "    }\n",
       "\n",
       "    .dataframe thead th {\n",
       "        text-align: right;\n",
       "    }\n",
       "</style>\n",
       "<table border=\"1\" class=\"dataframe\">\n",
       "  <thead>\n",
       "    <tr style=\"text-align: right;\">\n",
       "      <th></th>\n",
       "      <th>c2</th>\n",
       "      <th>c3</th>\n",
       "      <th>c4</th>\n",
       "      <th>c5</th>\n",
       "    </tr>\n",
       "  </thead>\n",
       "  <tbody>\n",
       "    <tr>\n",
       "      <th>a</th>\n",
       "      <td>0.481546</td>\n",
       "      <td>0.080520</td>\n",
       "      <td>-0.234674</td>\n",
       "      <td>-0.550218</td>\n",
       "    </tr>\n",
       "    <tr>\n",
       "      <th>b</th>\n",
       "      <td>0.162750</td>\n",
       "      <td>-0.740732</td>\n",
       "      <td>2.694642</td>\n",
       "      <td>-0.166083</td>\n",
       "    </tr>\n",
       "    <tr>\n",
       "      <th>c</th>\n",
       "      <td>0.456462</td>\n",
       "      <td>-0.733914</td>\n",
       "      <td>0.708901</td>\n",
       "      <td>0.121755</td>\n",
       "    </tr>\n",
       "    <tr>\n",
       "      <th>d</th>\n",
       "      <td>-0.642701</td>\n",
       "      <td>-0.505064</td>\n",
       "      <td>1.011095</td>\n",
       "      <td>0.348473</td>\n",
       "    </tr>\n",
       "    <tr>\n",
       "      <th>e</th>\n",
       "      <td>0.108392</td>\n",
       "      <td>-0.632507</td>\n",
       "      <td>1.497317</td>\n",
       "      <td>0.034606</td>\n",
       "    </tr>\n",
       "    <tr>\n",
       "      <th>f</th>\n",
       "      <td>-0.886040</td>\n",
       "      <td>4.159477</td>\n",
       "      <td>0.806074</td>\n",
       "      <td>-0.899153</td>\n",
       "    </tr>\n",
       "  </tbody>\n",
       "</table>\n",
       "</div>"
      ],
      "text/plain": [
       "         c2        c3        c4        c5\n",
       "a  0.481546  0.080520 -0.234674 -0.550218\n",
       "b  0.162750 -0.740732  2.694642 -0.166083\n",
       "c  0.456462 -0.733914  0.708901  0.121755\n",
       "d -0.642701 -0.505064  1.011095  0.348473\n",
       "e  0.108392 -0.632507  1.497317  0.034606\n",
       "f -0.886040  4.159477  0.806074 -0.899153"
      ]
     },
     "execution_count": 56,
     "metadata": {},
     "output_type": "execute_result"
    }
   ],
   "source": [
    "# we tell the pandas to delete all the cols where value is NaN \n",
    "cnew_df.dropna(axis=1)"
   ]
  },
  {
   "cell_type": "code",
   "execution_count": 57,
   "metadata": {
    "scrolled": true
   },
   "outputs": [
    {
     "data": {
      "text/html": [
       "<div>\n",
       "<style scoped>\n",
       "    .dataframe tbody tr th:only-of-type {\n",
       "        vertical-align: middle;\n",
       "    }\n",
       "\n",
       "    .dataframe tbody tr th {\n",
       "        vertical-align: top;\n",
       "    }\n",
       "\n",
       "    .dataframe thead th {\n",
       "        text-align: right;\n",
       "    }\n",
       "</style>\n",
       "<table border=\"1\" class=\"dataframe\">\n",
       "  <thead>\n",
       "    <tr style=\"text-align: right;\">\n",
       "      <th></th>\n",
       "      <th>c1</th>\n",
       "      <th>c2</th>\n",
       "      <th>c3</th>\n",
       "      <th>c4</th>\n",
       "      <th>c5</th>\n",
       "    </tr>\n",
       "  </thead>\n",
       "  <tbody>\n",
       "    <tr>\n",
       "      <th>a</th>\n",
       "      <td>NaN</td>\n",
       "      <td>NaN</td>\n",
       "      <td>NaN</td>\n",
       "      <td>NaN</td>\n",
       "      <td>NaN</td>\n",
       "    </tr>\n",
       "    <tr>\n",
       "      <th>b</th>\n",
       "      <td>0.309041</td>\n",
       "      <td>0.027364</td>\n",
       "      <td>-0.753486</td>\n",
       "      <td>0.190055</td>\n",
       "      <td>1.206419</td>\n",
       "    </tr>\n",
       "    <tr>\n",
       "      <th>c</th>\n",
       "      <td>-0.133639</td>\n",
       "      <td>0.085205</td>\n",
       "      <td>0.113742</td>\n",
       "      <td>-0.484856</td>\n",
       "      <td>-0.307046</td>\n",
       "    </tr>\n",
       "    <tr>\n",
       "      <th>d</th>\n",
       "      <td>0.203822</td>\n",
       "      <td>-0.704679</td>\n",
       "      <td>-0.450684</td>\n",
       "      <td>-0.353546</td>\n",
       "      <td>-0.222892</td>\n",
       "    </tr>\n",
       "    <tr>\n",
       "      <th>e</th>\n",
       "      <td>-0.169938</td>\n",
       "      <td>1.574970</td>\n",
       "      <td>0.911929</td>\n",
       "      <td>1.374177</td>\n",
       "      <td>0.821570</td>\n",
       "    </tr>\n",
       "    <tr>\n",
       "      <th>f</th>\n",
       "      <td>0.323635</td>\n",
       "      <td>-0.863910</td>\n",
       "      <td>0.910654</td>\n",
       "      <td>0.381796</td>\n",
       "      <td>-0.865311</td>\n",
       "    </tr>\n",
       "  </tbody>\n",
       "</table>\n",
       "</div>"
      ],
      "text/plain": [
       "         c1        c2        c3        c4        c5\n",
       "a       NaN       NaN       NaN       NaN       NaN\n",
       "b  0.309041  0.027364 -0.753486  0.190055  1.206419\n",
       "c -0.133639  0.085205  0.113742 -0.484856 -0.307046\n",
       "d  0.203822 -0.704679 -0.450684 -0.353546 -0.222892\n",
       "e -0.169938  1.574970  0.911929  1.374177  0.821570\n",
       "f  0.323635 -0.863910  0.910654  0.381796 -0.865311"
      ]
     },
     "execution_count": 57,
     "metadata": {},
     "output_type": "execute_result"
    }
   ],
   "source": [
    "s_df = new_df.pct_change()\n",
    "s_df"
   ]
  },
  {
   "cell_type": "code",
   "execution_count": 58,
   "metadata": {},
   "outputs": [
    {
     "data": {
      "text/html": [
       "<div>\n",
       "<style scoped>\n",
       "    .dataframe tbody tr th:only-of-type {\n",
       "        vertical-align: middle;\n",
       "    }\n",
       "\n",
       "    .dataframe tbody tr th {\n",
       "        vertical-align: top;\n",
       "    }\n",
       "\n",
       "    .dataframe thead th {\n",
       "        text-align: right;\n",
       "    }\n",
       "</style>\n",
       "<table border=\"1\" class=\"dataframe\">\n",
       "  <thead>\n",
       "    <tr style=\"text-align: right;\">\n",
       "      <th></th>\n",
       "      <th>c1</th>\n",
       "      <th>c2</th>\n",
       "      <th>c3</th>\n",
       "      <th>c4</th>\n",
       "      <th>c5</th>\n",
       "    </tr>\n",
       "  </thead>\n",
       "  <tbody>\n",
       "    <tr>\n",
       "      <th>b</th>\n",
       "      <td>0.309041</td>\n",
       "      <td>0.027364</td>\n",
       "      <td>-0.753486</td>\n",
       "      <td>0.190055</td>\n",
       "      <td>1.206419</td>\n",
       "    </tr>\n",
       "    <tr>\n",
       "      <th>c</th>\n",
       "      <td>-0.133639</td>\n",
       "      <td>0.085205</td>\n",
       "      <td>0.113742</td>\n",
       "      <td>-0.484856</td>\n",
       "      <td>-0.307046</td>\n",
       "    </tr>\n",
       "    <tr>\n",
       "      <th>d</th>\n",
       "      <td>0.203822</td>\n",
       "      <td>-0.704679</td>\n",
       "      <td>-0.450684</td>\n",
       "      <td>-0.353546</td>\n",
       "      <td>-0.222892</td>\n",
       "    </tr>\n",
       "    <tr>\n",
       "      <th>e</th>\n",
       "      <td>-0.169938</td>\n",
       "      <td>1.574970</td>\n",
       "      <td>0.911929</td>\n",
       "      <td>1.374177</td>\n",
       "      <td>0.821570</td>\n",
       "    </tr>\n",
       "    <tr>\n",
       "      <th>f</th>\n",
       "      <td>0.323635</td>\n",
       "      <td>-0.863910</td>\n",
       "      <td>0.910654</td>\n",
       "      <td>0.381796</td>\n",
       "      <td>-0.865311</td>\n",
       "    </tr>\n",
       "  </tbody>\n",
       "</table>\n",
       "</div>"
      ],
      "text/plain": [
       "         c1        c2        c3        c4        c5\n",
       "b  0.309041  0.027364 -0.753486  0.190055  1.206419\n",
       "c -0.133639  0.085205  0.113742 -0.484856 -0.307046\n",
       "d  0.203822 -0.704679 -0.450684 -0.353546 -0.222892\n",
       "e -0.169938  1.574970  0.911929  1.374177  0.821570\n",
       "f  0.323635 -0.863910  0.910654  0.381796 -0.865311"
      ]
     },
     "execution_count": 58,
     "metadata": {},
     "output_type": "execute_result"
    }
   ],
   "source": [
    "\n",
    "ns_df = s_df.dropna()\n",
    "ns_df"
   ]
  },
  {
   "cell_type": "code",
   "execution_count": 59,
   "metadata": {
    "scrolled": true
   },
   "outputs": [
    {
     "data": {
      "text/html": [
       "<div>\n",
       "<style scoped>\n",
       "    .dataframe tbody tr th:only-of-type {\n",
       "        vertical-align: middle;\n",
       "    }\n",
       "\n",
       "    .dataframe tbody tr th {\n",
       "        vertical-align: top;\n",
       "    }\n",
       "\n",
       "    .dataframe thead th {\n",
       "        text-align: right;\n",
       "    }\n",
       "</style>\n",
       "<table border=\"1\" class=\"dataframe\">\n",
       "  <thead>\n",
       "    <tr style=\"text-align: right;\">\n",
       "      <th></th>\n",
       "      <th>c1</th>\n",
       "      <th>c2</th>\n",
       "      <th>c3</th>\n",
       "      <th>c4</th>\n",
       "      <th>c5</th>\n",
       "    </tr>\n",
       "  </thead>\n",
       "  <tbody>\n",
       "    <tr>\n",
       "      <th>a</th>\n",
       "      <td>1.000000</td>\n",
       "      <td>1.000000</td>\n",
       "      <td>1.000000</td>\n",
       "      <td>1.000000</td>\n",
       "      <td>1.000000</td>\n",
       "    </tr>\n",
       "    <tr>\n",
       "      <th>b</th>\n",
       "      <td>0.309041</td>\n",
       "      <td>0.027364</td>\n",
       "      <td>-0.753486</td>\n",
       "      <td>0.190055</td>\n",
       "      <td>1.206419</td>\n",
       "    </tr>\n",
       "    <tr>\n",
       "      <th>c</th>\n",
       "      <td>-0.133639</td>\n",
       "      <td>0.085205</td>\n",
       "      <td>0.113742</td>\n",
       "      <td>-0.484856</td>\n",
       "      <td>-0.307046</td>\n",
       "    </tr>\n",
       "    <tr>\n",
       "      <th>d</th>\n",
       "      <td>0.203822</td>\n",
       "      <td>-0.704679</td>\n",
       "      <td>-0.450684</td>\n",
       "      <td>-0.353546</td>\n",
       "      <td>-0.222892</td>\n",
       "    </tr>\n",
       "    <tr>\n",
       "      <th>e</th>\n",
       "      <td>-0.169938</td>\n",
       "      <td>1.574970</td>\n",
       "      <td>0.911929</td>\n",
       "      <td>1.374177</td>\n",
       "      <td>0.821570</td>\n",
       "    </tr>\n",
       "    <tr>\n",
       "      <th>f</th>\n",
       "      <td>0.323635</td>\n",
       "      <td>-0.863910</td>\n",
       "      <td>0.910654</td>\n",
       "      <td>0.381796</td>\n",
       "      <td>-0.865311</td>\n",
       "    </tr>\n",
       "  </tbody>\n",
       "</table>\n",
       "</div>"
      ],
      "text/plain": [
       "         c1        c2        c3        c4        c5\n",
       "a  1.000000  1.000000  1.000000  1.000000  1.000000\n",
       "b  0.309041  0.027364 -0.753486  0.190055  1.206419\n",
       "c -0.133639  0.085205  0.113742 -0.484856 -0.307046\n",
       "d  0.203822 -0.704679 -0.450684 -0.353546 -0.222892\n",
       "e -0.169938  1.574970  0.911929  1.374177  0.821570\n",
       "f  0.323635 -0.863910  0.910654  0.381796 -0.865311"
      ]
     },
     "execution_count": 59,
     "metadata": {},
     "output_type": "execute_result"
    }
   ],
   "source": [
    "#we can also fill the NaN value with some value\n",
    "s_df.fillna(1)"
   ]
  },
  {
   "cell_type": "code",
   "execution_count": 60,
   "metadata": {},
   "outputs": [
    {
     "data": {
      "text/html": [
       "<div>\n",
       "<style scoped>\n",
       "    .dataframe tbody tr th:only-of-type {\n",
       "        vertical-align: middle;\n",
       "    }\n",
       "\n",
       "    .dataframe tbody tr th {\n",
       "        vertical-align: top;\n",
       "    }\n",
       "\n",
       "    .dataframe thead th {\n",
       "        text-align: right;\n",
       "    }\n",
       "</style>\n",
       "<table border=\"1\" class=\"dataframe\">\n",
       "  <thead>\n",
       "    <tr style=\"text-align: right;\">\n",
       "      <th></th>\n",
       "      <th>c1</th>\n",
       "      <th>c2</th>\n",
       "      <th>c3</th>\n",
       "      <th>c4</th>\n",
       "      <th>c5</th>\n",
       "    </tr>\n",
       "  </thead>\n",
       "  <tbody>\n",
       "    <tr>\n",
       "      <th>a</th>\n",
       "      <td>NaN</td>\n",
       "      <td>NaN</td>\n",
       "      <td>NaN</td>\n",
       "      <td>NaN</td>\n",
       "      <td>NaN</td>\n",
       "    </tr>\n",
       "    <tr>\n",
       "      <th>b</th>\n",
       "      <td>0.309041</td>\n",
       "      <td>0.027364</td>\n",
       "      <td>-0.753486</td>\n",
       "      <td>0.190055</td>\n",
       "      <td>1.206419</td>\n",
       "    </tr>\n",
       "    <tr>\n",
       "      <th>c</th>\n",
       "      <td>-0.133639</td>\n",
       "      <td>0.085205</td>\n",
       "      <td>0.113742</td>\n",
       "      <td>-0.484856</td>\n",
       "      <td>-0.307046</td>\n",
       "    </tr>\n",
       "    <tr>\n",
       "      <th>d</th>\n",
       "      <td>0.203822</td>\n",
       "      <td>-0.704679</td>\n",
       "      <td>-0.450684</td>\n",
       "      <td>-0.353546</td>\n",
       "      <td>-0.222892</td>\n",
       "    </tr>\n",
       "    <tr>\n",
       "      <th>e</th>\n",
       "      <td>-0.169938</td>\n",
       "      <td>1.574970</td>\n",
       "      <td>0.911929</td>\n",
       "      <td>1.374177</td>\n",
       "      <td>0.821570</td>\n",
       "    </tr>\n",
       "    <tr>\n",
       "      <th>f</th>\n",
       "      <td>0.323635</td>\n",
       "      <td>-0.863910</td>\n",
       "      <td>0.910654</td>\n",
       "      <td>0.381796</td>\n",
       "      <td>-0.865311</td>\n",
       "    </tr>\n",
       "  </tbody>\n",
       "</table>\n",
       "</div>"
      ],
      "text/plain": [
       "         c1        c2        c3        c4        c5\n",
       "a       NaN       NaN       NaN       NaN       NaN\n",
       "b  0.309041  0.027364 -0.753486  0.190055  1.206419\n",
       "c -0.133639  0.085205  0.113742 -0.484856 -0.307046\n",
       "d  0.203822 -0.704679 -0.450684 -0.353546 -0.222892\n",
       "e -0.169938  1.574970  0.911929  1.374177  0.821570\n",
       "f  0.323635 -0.863910  0.910654  0.381796 -0.865311"
      ]
     },
     "execution_count": 60,
     "metadata": {},
     "output_type": "execute_result"
    }
   ],
   "source": [
    "#s_df itself doesnt change \n",
    "s_df"
   ]
  },
  {
   "cell_type": "code",
   "execution_count": 61,
   "metadata": {},
   "outputs": [
    {
     "data": {
      "text/html": [
       "<div>\n",
       "<style scoped>\n",
       "    .dataframe tbody tr th:only-of-type {\n",
       "        vertical-align: middle;\n",
       "    }\n",
       "\n",
       "    .dataframe tbody tr th {\n",
       "        vertical-align: top;\n",
       "    }\n",
       "\n",
       "    .dataframe thead th {\n",
       "        text-align: right;\n",
       "    }\n",
       "</style>\n",
       "<table border=\"1\" class=\"dataframe\">\n",
       "  <thead>\n",
       "    <tr style=\"text-align: right;\">\n",
       "      <th></th>\n",
       "      <th>c1</th>\n",
       "      <th>c2</th>\n",
       "      <th>c3</th>\n",
       "      <th>c4</th>\n",
       "      <th>c5</th>\n",
       "    </tr>\n",
       "  </thead>\n",
       "  <tbody>\n",
       "    <tr>\n",
       "      <th>a</th>\n",
       "      <td>0.000000</td>\n",
       "      <td>0.000000</td>\n",
       "      <td>0.000000</td>\n",
       "      <td>0.000000</td>\n",
       "      <td>0.000000</td>\n",
       "    </tr>\n",
       "    <tr>\n",
       "      <th>b</th>\n",
       "      <td>0.309041</td>\n",
       "      <td>0.027364</td>\n",
       "      <td>-0.753486</td>\n",
       "      <td>0.190055</td>\n",
       "      <td>1.206419</td>\n",
       "    </tr>\n",
       "    <tr>\n",
       "      <th>c</th>\n",
       "      <td>-0.133639</td>\n",
       "      <td>0.085205</td>\n",
       "      <td>0.113742</td>\n",
       "      <td>-0.484856</td>\n",
       "      <td>-0.307046</td>\n",
       "    </tr>\n",
       "    <tr>\n",
       "      <th>d</th>\n",
       "      <td>0.203822</td>\n",
       "      <td>-0.704679</td>\n",
       "      <td>-0.450684</td>\n",
       "      <td>-0.353546</td>\n",
       "      <td>-0.222892</td>\n",
       "    </tr>\n",
       "    <tr>\n",
       "      <th>e</th>\n",
       "      <td>-0.169938</td>\n",
       "      <td>1.574970</td>\n",
       "      <td>0.911929</td>\n",
       "      <td>1.374177</td>\n",
       "      <td>0.821570</td>\n",
       "    </tr>\n",
       "    <tr>\n",
       "      <th>f</th>\n",
       "      <td>0.323635</td>\n",
       "      <td>-0.863910</td>\n",
       "      <td>0.910654</td>\n",
       "      <td>0.381796</td>\n",
       "      <td>-0.865311</td>\n",
       "    </tr>\n",
       "  </tbody>\n",
       "</table>\n",
       "</div>"
      ],
      "text/plain": [
       "         c1        c2        c3        c4        c5\n",
       "a  0.000000  0.000000  0.000000  0.000000  0.000000\n",
       "b  0.309041  0.027364 -0.753486  0.190055  1.206419\n",
       "c -0.133639  0.085205  0.113742 -0.484856 -0.307046\n",
       "d  0.203822 -0.704679 -0.450684 -0.353546 -0.222892\n",
       "e -0.169938  1.574970  0.911929  1.374177  0.821570\n",
       "f  0.323635 -0.863910  0.910654  0.381796 -0.865311"
      ]
     },
     "execution_count": 61,
     "metadata": {},
     "output_type": "execute_result"
    }
   ],
   "source": [
    "# when we do inpcae operation we dont get any return dataframe \n",
    "# inplcae is supported by many operations\n",
    "s_df.fillna(0,inplace=True)\n",
    "s_df"
   ]
  },
  {
   "cell_type": "code",
   "execution_count": 127,
   "metadata": {},
   "outputs": [
    {
     "data": {
      "text/html": [
       "<div>\n",
       "<style scoped>\n",
       "    .dataframe tbody tr th:only-of-type {\n",
       "        vertical-align: middle;\n",
       "    }\n",
       "\n",
       "    .dataframe tbody tr th {\n",
       "        vertical-align: top;\n",
       "    }\n",
       "\n",
       "    .dataframe thead tr th {\n",
       "        text-align: left;\n",
       "    }\n",
       "</style>\n",
       "<table border=\"1\" class=\"dataframe\">\n",
       "  <thead>\n",
       "    <tr>\n",
       "      <th></th>\n",
       "      <th></th>\n",
       "      <th colspan=\"2\" halign=\"left\">car</th>\n",
       "      <th colspan=\"2\" halign=\"left\">bus</th>\n",
       "      <th colspan=\"2\" halign=\"left\">metro</th>\n",
       "    </tr>\n",
       "    <tr>\n",
       "      <th></th>\n",
       "      <th></th>\n",
       "      <th>fast</th>\n",
       "      <th>slow</th>\n",
       "      <th>fast</th>\n",
       "      <th>slow</th>\n",
       "      <th>fast</th>\n",
       "      <th>slow</th>\n",
       "    </tr>\n",
       "  </thead>\n",
       "  <tbody>\n",
       "    <tr>\n",
       "      <th rowspan=\"3\" valign=\"top\">a</th>\n",
       "      <th>1</th>\n",
       "      <td>6.018007</td>\n",
       "      <td>5.237671</td>\n",
       "      <td>9.919134</td>\n",
       "      <td>8.839063</td>\n",
       "      <td>2.114987</td>\n",
       "      <td>6.843967</td>\n",
       "    </tr>\n",
       "    <tr>\n",
       "      <th>2</th>\n",
       "      <td>5.772469</td>\n",
       "      <td>6.989484</td>\n",
       "      <td>4.445156</td>\n",
       "      <td>1.845333</td>\n",
       "      <td>9.816755</td>\n",
       "      <td>2.743572</td>\n",
       "    </tr>\n",
       "    <tr>\n",
       "      <th>3</th>\n",
       "      <td>3.410426</td>\n",
       "      <td>0.041655</td>\n",
       "      <td>1.347723</td>\n",
       "      <td>6.680796</td>\n",
       "      <td>3.786686</td>\n",
       "      <td>5.345911</td>\n",
       "    </tr>\n",
       "    <tr>\n",
       "      <th rowspan=\"3\" valign=\"top\">b</th>\n",
       "      <th>1</th>\n",
       "      <td>6.062643</td>\n",
       "      <td>7.995729</td>\n",
       "      <td>2.404485</td>\n",
       "      <td>4.833443</td>\n",
       "      <td>8.451274</td>\n",
       "      <td>7.573360</td>\n",
       "    </tr>\n",
       "    <tr>\n",
       "      <th>2</th>\n",
       "      <td>4.806986</td>\n",
       "      <td>4.562165</td>\n",
       "      <td>1.469422</td>\n",
       "      <td>8.499959</td>\n",
       "      <td>4.226213</td>\n",
       "      <td>0.646013</td>\n",
       "    </tr>\n",
       "    <tr>\n",
       "      <th>3</th>\n",
       "      <td>7.366148</td>\n",
       "      <td>6.021188</td>\n",
       "      <td>1.878591</td>\n",
       "      <td>0.620946</td>\n",
       "      <td>2.591152</td>\n",
       "      <td>9.066613</td>\n",
       "    </tr>\n",
       "  </tbody>\n",
       "</table>\n",
       "</div>"
      ],
      "text/plain": [
       "          car                 bus               metro          \n",
       "         fast      slow      fast      slow      fast      slow\n",
       "a 1  6.018007  5.237671  9.919134  8.839063  2.114987  6.843967\n",
       "  2  5.772469  6.989484  4.445156  1.845333  9.816755  2.743572\n",
       "  3  3.410426  0.041655  1.347723  6.680796  3.786686  5.345911\n",
       "b 1  6.062643  7.995729  2.404485  4.833443  8.451274  7.573360\n",
       "  2  4.806986  4.562165  1.469422  8.499959  4.226213  0.646013\n",
       "  3  7.366148  6.021188  1.878591  0.620946  2.591152  9.066613"
      ]
     },
     "execution_count": 127,
     "metadata": {},
     "output_type": "execute_result"
    }
   ],
   "source": [
    "# lets havea look at mutlilevel indexing\n",
    "another_df = pd.DataFrame((10*np.random.rand(36,)).reshape(6,6), index=[['a','a','a','b','b','b'],[1,2,3,1,2,3]], \n",
    "                          columns=[['car', 'car','bus','bus','metro', 'metro'],['fast','slow','fast','slow','fast','slow']])\n",
    "another_df                   "
   ]
  },
  {
   "cell_type": "code",
   "execution_count": 128,
   "metadata": {},
   "outputs": [
    {
     "data": {
      "text/plain": [
       "MultiIndex(levels=[['a', 'b'], [1, 2, 3]],\n",
       "           labels=[[0, 0, 0, 1, 1, 1], [0, 1, 2, 0, 1, 2]])"
      ]
     },
     "execution_count": 128,
     "metadata": {},
     "output_type": "execute_result"
    }
   ],
   "source": [
    "# we shall get the muti level indexing info\n",
    "another_df.index"
   ]
  },
  {
   "cell_type": "code",
   "execution_count": 129,
   "metadata": {},
   "outputs": [
    {
     "data": {
      "text/html": [
       "<div>\n",
       "<style scoped>\n",
       "    .dataframe tbody tr th:only-of-type {\n",
       "        vertical-align: middle;\n",
       "    }\n",
       "\n",
       "    .dataframe tbody tr th {\n",
       "        vertical-align: top;\n",
       "    }\n",
       "\n",
       "    .dataframe thead tr th {\n",
       "        text-align: left;\n",
       "    }\n",
       "\n",
       "    .dataframe thead tr:last-of-type th {\n",
       "        text-align: right;\n",
       "    }\n",
       "</style>\n",
       "<table border=\"1\" class=\"dataframe\">\n",
       "  <thead>\n",
       "    <tr>\n",
       "      <th></th>\n",
       "      <th>vehicle</th>\n",
       "      <th colspan=\"2\" halign=\"left\">car</th>\n",
       "      <th colspan=\"2\" halign=\"left\">bus</th>\n",
       "      <th colspan=\"2\" halign=\"left\">metro</th>\n",
       "    </tr>\n",
       "    <tr>\n",
       "      <th></th>\n",
       "      <th>speed</th>\n",
       "      <th>fast</th>\n",
       "      <th>slow</th>\n",
       "      <th>fast</th>\n",
       "      <th>slow</th>\n",
       "      <th>fast</th>\n",
       "      <th>slow</th>\n",
       "    </tr>\n",
       "    <tr>\n",
       "      <th>type</th>\n",
       "      <th>class</th>\n",
       "      <th></th>\n",
       "      <th></th>\n",
       "      <th></th>\n",
       "      <th></th>\n",
       "      <th></th>\n",
       "      <th></th>\n",
       "    </tr>\n",
       "  </thead>\n",
       "  <tbody>\n",
       "    <tr>\n",
       "      <th rowspan=\"3\" valign=\"top\">a</th>\n",
       "      <th>1</th>\n",
       "      <td>6.018007</td>\n",
       "      <td>5.237671</td>\n",
       "      <td>9.919134</td>\n",
       "      <td>8.839063</td>\n",
       "      <td>2.114987</td>\n",
       "      <td>6.843967</td>\n",
       "    </tr>\n",
       "    <tr>\n",
       "      <th>2</th>\n",
       "      <td>5.772469</td>\n",
       "      <td>6.989484</td>\n",
       "      <td>4.445156</td>\n",
       "      <td>1.845333</td>\n",
       "      <td>9.816755</td>\n",
       "      <td>2.743572</td>\n",
       "    </tr>\n",
       "    <tr>\n",
       "      <th>3</th>\n",
       "      <td>3.410426</td>\n",
       "      <td>0.041655</td>\n",
       "      <td>1.347723</td>\n",
       "      <td>6.680796</td>\n",
       "      <td>3.786686</td>\n",
       "      <td>5.345911</td>\n",
       "    </tr>\n",
       "    <tr>\n",
       "      <th rowspan=\"3\" valign=\"top\">b</th>\n",
       "      <th>1</th>\n",
       "      <td>6.062643</td>\n",
       "      <td>7.995729</td>\n",
       "      <td>2.404485</td>\n",
       "      <td>4.833443</td>\n",
       "      <td>8.451274</td>\n",
       "      <td>7.573360</td>\n",
       "    </tr>\n",
       "    <tr>\n",
       "      <th>2</th>\n",
       "      <td>4.806986</td>\n",
       "      <td>4.562165</td>\n",
       "      <td>1.469422</td>\n",
       "      <td>8.499959</td>\n",
       "      <td>4.226213</td>\n",
       "      <td>0.646013</td>\n",
       "    </tr>\n",
       "    <tr>\n",
       "      <th>3</th>\n",
       "      <td>7.366148</td>\n",
       "      <td>6.021188</td>\n",
       "      <td>1.878591</td>\n",
       "      <td>0.620946</td>\n",
       "      <td>2.591152</td>\n",
       "      <td>9.066613</td>\n",
       "    </tr>\n",
       "  </tbody>\n",
       "</table>\n",
       "</div>"
      ],
      "text/plain": [
       "vehicle          car                 bus               metro          \n",
       "speed           fast      slow      fast      slow      fast      slow\n",
       "type class                                                            \n",
       "a    1      6.018007  5.237671  9.919134  8.839063  2.114987  6.843967\n",
       "     2      5.772469  6.989484  4.445156  1.845333  9.816755  2.743572\n",
       "     3      3.410426  0.041655  1.347723  6.680796  3.786686  5.345911\n",
       "b    1      6.062643  7.995729  2.404485  4.833443  8.451274  7.573360\n",
       "     2      4.806986  4.562165  1.469422  8.499959  4.226213  0.646013\n",
       "     3      7.366148  6.021188  1.878591  0.620946  2.591152  9.066613"
      ]
     },
     "execution_count": 129,
     "metadata": {},
     "output_type": "execute_result"
    }
   ],
   "source": [
    "another_df.index.names = ['type', 'class']\n",
    "another_df.columns.names = ['vehicle', 'speed']\n",
    "another_df"
   ]
  },
  {
   "cell_type": "code",
   "execution_count": 134,
   "metadata": {},
   "outputs": [
    {
     "data": {
      "text/html": [
       "<div>\n",
       "<style scoped>\n",
       "    .dataframe tbody tr th:only-of-type {\n",
       "        vertical-align: middle;\n",
       "    }\n",
       "\n",
       "    .dataframe tbody tr th {\n",
       "        vertical-align: top;\n",
       "    }\n",
       "\n",
       "    .dataframe thead tr th {\n",
       "        text-align: left;\n",
       "    }\n",
       "\n",
       "    .dataframe thead tr:last-of-type th {\n",
       "        text-align: right;\n",
       "    }\n",
       "</style>\n",
       "<table border=\"1\" class=\"dataframe\">\n",
       "  <thead>\n",
       "    <tr>\n",
       "      <th></th>\n",
       "      <th>vehicle</th>\n",
       "      <th colspan=\"2\" halign=\"left\">car</th>\n",
       "      <th colspan=\"2\" halign=\"left\">bus</th>\n",
       "      <th colspan=\"2\" halign=\"left\">metro</th>\n",
       "    </tr>\n",
       "    <tr>\n",
       "      <th></th>\n",
       "      <th>speed</th>\n",
       "      <th>fast</th>\n",
       "      <th>slow</th>\n",
       "      <th>fast</th>\n",
       "      <th>slow</th>\n",
       "      <th>fast</th>\n",
       "      <th>slow</th>\n",
       "    </tr>\n",
       "    <tr>\n",
       "      <th>type</th>\n",
       "      <th>class</th>\n",
       "      <th></th>\n",
       "      <th></th>\n",
       "      <th></th>\n",
       "      <th></th>\n",
       "      <th></th>\n",
       "      <th></th>\n",
       "    </tr>\n",
       "  </thead>\n",
       "  <tbody>\n",
       "    <tr>\n",
       "      <th rowspan=\"3\" valign=\"top\">a</th>\n",
       "      <th>1</th>\n",
       "      <td>6.018007</td>\n",
       "      <td>5.237671</td>\n",
       "      <td>9.919134</td>\n",
       "      <td>8.839063</td>\n",
       "      <td>2.114987</td>\n",
       "      <td>6.843967</td>\n",
       "    </tr>\n",
       "    <tr>\n",
       "      <th>2</th>\n",
       "      <td>5.772469</td>\n",
       "      <td>6.989484</td>\n",
       "      <td>4.445156</td>\n",
       "      <td>1.845333</td>\n",
       "      <td>9.816755</td>\n",
       "      <td>2.743572</td>\n",
       "    </tr>\n",
       "    <tr>\n",
       "      <th>3</th>\n",
       "      <td>3.410426</td>\n",
       "      <td>0.041655</td>\n",
       "      <td>1.347723</td>\n",
       "      <td>6.680796</td>\n",
       "      <td>3.786686</td>\n",
       "      <td>5.345911</td>\n",
       "    </tr>\n",
       "    <tr>\n",
       "      <th rowspan=\"3\" valign=\"top\">b</th>\n",
       "      <th>1</th>\n",
       "      <td>6.062643</td>\n",
       "      <td>7.995729</td>\n",
       "      <td>2.404485</td>\n",
       "      <td>4.833443</td>\n",
       "      <td>8.451274</td>\n",
       "      <td>7.573360</td>\n",
       "    </tr>\n",
       "    <tr>\n",
       "      <th>2</th>\n",
       "      <td>4.806986</td>\n",
       "      <td>4.562165</td>\n",
       "      <td>1.469422</td>\n",
       "      <td>8.499959</td>\n",
       "      <td>4.226213</td>\n",
       "      <td>0.646013</td>\n",
       "    </tr>\n",
       "    <tr>\n",
       "      <th>3</th>\n",
       "      <td>7.366148</td>\n",
       "      <td>6.021188</td>\n",
       "      <td>1.878591</td>\n",
       "      <td>0.620946</td>\n",
       "      <td>2.591152</td>\n",
       "      <td>9.066613</td>\n",
       "    </tr>\n",
       "  </tbody>\n",
       "</table>\n",
       "</div>"
      ],
      "text/plain": [
       "vehicle          car                 bus               metro          \n",
       "speed           fast      slow      fast      slow      fast      slow\n",
       "type class                                                            \n",
       "a    1      6.018007  5.237671  9.919134  8.839063  2.114987  6.843967\n",
       "     2      5.772469  6.989484  4.445156  1.845333  9.816755  2.743572\n",
       "     3      3.410426  0.041655  1.347723  6.680796  3.786686  5.345911\n",
       "b    1      6.062643  7.995729  2.404485  4.833443  8.451274  7.573360\n",
       "     2      4.806986  4.562165  1.469422  8.499959  4.226213  0.646013\n",
       "     3      7.366148  6.021188  1.878591  0.620946  2.591152  9.066613"
      ]
     },
     "execution_count": 134,
     "metadata": {},
     "output_type": "execute_result"
    }
   ],
   "source": [
    "another_df = another_df.swaplevel('vehicle','speed',axis=1)\n",
    "another_df"
   ]
  },
  {
   "cell_type": "code",
   "execution_count": 135,
   "metadata": {},
   "outputs": [
    {
     "data": {
      "text/html": [
       "<div>\n",
       "<style scoped>\n",
       "    .dataframe tbody tr th:only-of-type {\n",
       "        vertical-align: middle;\n",
       "    }\n",
       "\n",
       "    .dataframe tbody tr th {\n",
       "        vertical-align: top;\n",
       "    }\n",
       "\n",
       "    .dataframe thead tr th {\n",
       "        text-align: left;\n",
       "    }\n",
       "\n",
       "    .dataframe thead tr:last-of-type th {\n",
       "        text-align: right;\n",
       "    }\n",
       "</style>\n",
       "<table border=\"1\" class=\"dataframe\">\n",
       "  <thead>\n",
       "    <tr>\n",
       "      <th></th>\n",
       "      <th>vehicle</th>\n",
       "      <th colspan=\"2\" halign=\"left\">bus</th>\n",
       "      <th colspan=\"2\" halign=\"left\">car</th>\n",
       "      <th colspan=\"2\" halign=\"left\">metro</th>\n",
       "    </tr>\n",
       "    <tr>\n",
       "      <th></th>\n",
       "      <th>speed</th>\n",
       "      <th>fast</th>\n",
       "      <th>slow</th>\n",
       "      <th>fast</th>\n",
       "      <th>slow</th>\n",
       "      <th>fast</th>\n",
       "      <th>slow</th>\n",
       "    </tr>\n",
       "    <tr>\n",
       "      <th>type</th>\n",
       "      <th>class</th>\n",
       "      <th></th>\n",
       "      <th></th>\n",
       "      <th></th>\n",
       "      <th></th>\n",
       "      <th></th>\n",
       "      <th></th>\n",
       "    </tr>\n",
       "  </thead>\n",
       "  <tbody>\n",
       "    <tr>\n",
       "      <th rowspan=\"3\" valign=\"top\">a</th>\n",
       "      <th>1</th>\n",
       "      <td>9.919134</td>\n",
       "      <td>8.839063</td>\n",
       "      <td>6.018007</td>\n",
       "      <td>5.237671</td>\n",
       "      <td>2.114987</td>\n",
       "      <td>6.843967</td>\n",
       "    </tr>\n",
       "    <tr>\n",
       "      <th>2</th>\n",
       "      <td>4.445156</td>\n",
       "      <td>1.845333</td>\n",
       "      <td>5.772469</td>\n",
       "      <td>6.989484</td>\n",
       "      <td>9.816755</td>\n",
       "      <td>2.743572</td>\n",
       "    </tr>\n",
       "    <tr>\n",
       "      <th>3</th>\n",
       "      <td>1.347723</td>\n",
       "      <td>6.680796</td>\n",
       "      <td>3.410426</td>\n",
       "      <td>0.041655</td>\n",
       "      <td>3.786686</td>\n",
       "      <td>5.345911</td>\n",
       "    </tr>\n",
       "    <tr>\n",
       "      <th rowspan=\"3\" valign=\"top\">b</th>\n",
       "      <th>1</th>\n",
       "      <td>2.404485</td>\n",
       "      <td>4.833443</td>\n",
       "      <td>6.062643</td>\n",
       "      <td>7.995729</td>\n",
       "      <td>8.451274</td>\n",
       "      <td>7.573360</td>\n",
       "    </tr>\n",
       "    <tr>\n",
       "      <th>2</th>\n",
       "      <td>1.469422</td>\n",
       "      <td>8.499959</td>\n",
       "      <td>4.806986</td>\n",
       "      <td>4.562165</td>\n",
       "      <td>4.226213</td>\n",
       "      <td>0.646013</td>\n",
       "    </tr>\n",
       "    <tr>\n",
       "      <th>3</th>\n",
       "      <td>1.878591</td>\n",
       "      <td>0.620946</td>\n",
       "      <td>7.366148</td>\n",
       "      <td>6.021188</td>\n",
       "      <td>2.591152</td>\n",
       "      <td>9.066613</td>\n",
       "    </tr>\n",
       "  </tbody>\n",
       "</table>\n",
       "</div>"
      ],
      "text/plain": [
       "vehicle          bus                 car               metro          \n",
       "speed           fast      slow      fast      slow      fast      slow\n",
       "type class                                                            \n",
       "a    1      9.919134  8.839063  6.018007  5.237671  2.114987  6.843967\n",
       "     2      4.445156  1.845333  5.772469  6.989484  9.816755  2.743572\n",
       "     3      1.347723  6.680796  3.410426  0.041655  3.786686  5.345911\n",
       "b    1      2.404485  4.833443  6.062643  7.995729  8.451274  7.573360\n",
       "     2      1.469422  8.499959  4.806986  4.562165  4.226213  0.646013\n",
       "     3      1.878591  0.620946  7.366148  6.021188  2.591152  9.066613"
      ]
     },
     "execution_count": 135,
     "metadata": {},
     "output_type": "execute_result"
    }
   ],
   "source": [
    "another_df.sort_index(1)"
   ]
  },
  {
   "cell_type": "code",
   "execution_count": 136,
   "metadata": {},
   "outputs": [
    {
     "data": {
      "text/plain": [
       "vehicle  speed\n",
       "car      fast     33.436679\n",
       "         slow     30.847892\n",
       "bus      fast     21.464510\n",
       "         slow     31.319540\n",
       "metro    fast     30.987067\n",
       "         slow     32.219436\n",
       "dtype: float64"
      ]
     },
     "execution_count": 136,
     "metadata": {},
     "output_type": "execute_result"
    }
   ],
   "source": [
    "another_df.sum()"
   ]
  },
  {
   "cell_type": "code",
   "execution_count": 139,
   "metadata": {},
   "outputs": [
    {
     "data": {
      "text/html": [
       "<div>\n",
       "<style scoped>\n",
       "    .dataframe tbody tr th:only-of-type {\n",
       "        vertical-align: middle;\n",
       "    }\n",
       "\n",
       "    .dataframe tbody tr th {\n",
       "        vertical-align: top;\n",
       "    }\n",
       "\n",
       "    .dataframe thead th {\n",
       "        text-align: right;\n",
       "    }\n",
       "</style>\n",
       "<table border=\"1\" class=\"dataframe\">\n",
       "  <thead>\n",
       "    <tr style=\"text-align: right;\">\n",
       "      <th></th>\n",
       "      <th>speed</th>\n",
       "      <th>fast</th>\n",
       "      <th>slow</th>\n",
       "    </tr>\n",
       "    <tr>\n",
       "      <th>type</th>\n",
       "      <th>class</th>\n",
       "      <th></th>\n",
       "      <th></th>\n",
       "    </tr>\n",
       "  </thead>\n",
       "  <tbody>\n",
       "    <tr>\n",
       "      <th rowspan=\"3\" valign=\"top\">a</th>\n",
       "      <th>1</th>\n",
       "      <td>18.052128</td>\n",
       "      <td>20.920701</td>\n",
       "    </tr>\n",
       "    <tr>\n",
       "      <th>2</th>\n",
       "      <td>20.034380</td>\n",
       "      <td>11.578389</td>\n",
       "    </tr>\n",
       "    <tr>\n",
       "      <th>3</th>\n",
       "      <td>8.544835</td>\n",
       "      <td>12.068362</td>\n",
       "    </tr>\n",
       "    <tr>\n",
       "      <th rowspan=\"3\" valign=\"top\">b</th>\n",
       "      <th>1</th>\n",
       "      <td>16.918402</td>\n",
       "      <td>20.402531</td>\n",
       "    </tr>\n",
       "    <tr>\n",
       "      <th>2</th>\n",
       "      <td>10.502622</td>\n",
       "      <td>13.708137</td>\n",
       "    </tr>\n",
       "    <tr>\n",
       "      <th>3</th>\n",
       "      <td>11.835890</td>\n",
       "      <td>15.708747</td>\n",
       "    </tr>\n",
       "  </tbody>\n",
       "</table>\n",
       "</div>"
      ],
      "text/plain": [
       "speed            fast       slow\n",
       "type class                      \n",
       "a    1      18.052128  20.920701\n",
       "     2      20.034380  11.578389\n",
       "     3       8.544835  12.068362\n",
       "b    1      16.918402  20.402531\n",
       "     2      10.502622  13.708137\n",
       "     3      11.835890  15.708747"
      ]
     },
     "execution_count": 139,
     "metadata": {},
     "output_type": "execute_result"
    }
   ],
   "source": [
    "another_df.sum(level='speed', axis=1)"
   ]
  }
 ],
 "metadata": {
  "kernelspec": {
   "display_name": "Python 3",
   "language": "python",
   "name": "python3"
  },
  "language_info": {
   "codemirror_mode": {
    "name": "ipython",
    "version": 3
   },
   "file_extension": ".py",
   "mimetype": "text/x-python",
   "name": "python",
   "nbconvert_exporter": "python",
   "pygments_lexer": "ipython3",
   "version": "3.6.5"
  }
 },
 "nbformat": 4,
 "nbformat_minor": 4
}
