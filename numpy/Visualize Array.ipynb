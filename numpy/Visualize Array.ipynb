{
 "cells": [
  {
   "cell_type": "code",
   "execution_count": 30,
   "metadata": {},
   "outputs": [],
   "source": [
    "import numpy as np\n",
    "import matplotlib.pyplot as plt"
   ]
  },
  {
   "cell_type": "code",
   "execution_count": 31,
   "metadata": {},
   "outputs": [],
   "source": [
    "points = np.arange(-10,10,0.5)"
   ]
  },
  {
   "cell_type": "markdown",
   "metadata": {},
   "source": [
    "points would be all the numbers in the range provided"
   ]
  },
  {
   "cell_type": "code",
   "execution_count": 32,
   "metadata": {},
   "outputs": [
    {
     "data": {
      "text/plain": [
       "(40,)"
      ]
     },
     "execution_count": 32,
     "metadata": {},
     "output_type": "execute_result"
    }
   ],
   "source": [
    "points.shape"
   ]
  },
  {
   "cell_type": "markdown",
   "metadata": {},
   "source": [
    "points above are cordinate vectors\n",
    "we can get the cordinate matrix by using the meshgrid function"
   ]
  },
  {
   "cell_type": "code",
   "execution_count": 33,
   "metadata": {},
   "outputs": [],
   "source": [
    "dx, dy = np.meshgrid(points,points)"
   ]
  },
  {
   "cell_type": "code",
   "execution_count": 34,
   "metadata": {},
   "outputs": [
    {
     "data": {
      "text/plain": [
       "(40, 40)"
      ]
     },
     "execution_count": 34,
     "metadata": {},
     "output_type": "execute_result"
    }
   ],
   "source": [
    "dx.shape"
   ]
  },
  {
   "cell_type": "code",
   "execution_count": 35,
   "metadata": {},
   "outputs": [
    {
     "data": {
      "text/plain": [
       "(40, 40)"
      ]
     },
     "execution_count": 35,
     "metadata": {},
     "output_type": "execute_result"
    }
   ],
   "source": [
    "dy.shape"
   ]
  },
  {
   "cell_type": "code",
   "execution_count": 36,
   "metadata": {},
   "outputs": [
    {
     "data": {
      "text/plain": [
       "array([[-10. ,  -9.5,  -9. , ...,   8.5,   9. ,   9.5],\n",
       "       [-10. ,  -9.5,  -9. , ...,   8.5,   9. ,   9.5],\n",
       "       [-10. ,  -9.5,  -9. , ...,   8.5,   9. ,   9.5],\n",
       "       ...,\n",
       "       [-10. ,  -9.5,  -9. , ...,   8.5,   9. ,   9.5],\n",
       "       [-10. ,  -9.5,  -9. , ...,   8.5,   9. ,   9.5],\n",
       "       [-10. ,  -9.5,  -9. , ...,   8.5,   9. ,   9.5]])"
      ]
     },
     "execution_count": 36,
     "metadata": {},
     "output_type": "execute_result"
    }
   ],
   "source": [
    "dx"
   ]
  },
  {
   "cell_type": "code",
   "execution_count": 37,
   "metadata": {},
   "outputs": [
    {
     "data": {
      "text/plain": [
       "array([[-10. , -10. , -10. , ..., -10. , -10. , -10. ],\n",
       "       [ -9.5,  -9.5,  -9.5, ...,  -9.5,  -9.5,  -9.5],\n",
       "       [ -9. ,  -9. ,  -9. , ...,  -9. ,  -9. ,  -9. ],\n",
       "       ...,\n",
       "       [  8.5,   8.5,   8.5, ...,   8.5,   8.5,   8.5],\n",
       "       [  9. ,   9. ,   9. , ...,   9. ,   9. ,   9. ],\n",
       "       [  9.5,   9.5,   9.5, ...,   9.5,   9.5,   9.5]])"
      ]
     },
     "execution_count": 37,
     "metadata": {},
     "output_type": "execute_result"
    }
   ],
   "source": [
    "dy"
   ]
  },
  {
   "cell_type": "code",
   "execution_count": 38,
   "metadata": {},
   "outputs": [
    {
     "data": {
      "text/plain": [
       "<matplotlib.image.AxesImage at 0x141bbb0>"
      ]
     },
     "execution_count": 38,
     "metadata": {},
     "output_type": "execute_result"
    },
    {
     "data": {
      "image/png": "[encoded data removed]",
      "text/plain": [
       "<Figure size 432x288 with 1 Axes>"
      ]
     },
     "metadata": {
      "needs_background": "light"
     },
     "output_type": "display_data"
    }
   ],
   "source": [
    "plt.imshow(dx)\n"
   ]
  },
  {
   "cell_type": "code",
   "execution_count": 44,
   "metadata": {},
   "outputs": [
    {
     "data": {
      "text/plain": [
       "<matplotlib.colorbar.Colorbar at 0x159d2110>"
      ]
     },
     "execution_count": 44,
     "metadata": {},
     "output_type": "execute_result"
    },
    {
     "data": {
      "image/png": "[encoded data removed]",
      "text/plain": [
       "<Figure size 432x288 with 2 Axes>"
      ]
     },
     "metadata": {
      "needs_background": "light"
     },
     "output_type": "display_data"
    }
   ],
   "source": [
    "plt.imshow(dx)\n",
    "plt.colorbar()"
   ]
  },
  {
   "cell_type": "code",
   "execution_count": 45,
   "metadata": {},
   "outputs": [],
   "source": [
    "t = ( np.tan(dx) + np.tan(dy) )"
   ]
  },
  {
   "cell_type": "code",
   "execution_count": 46,
   "metadata": {},
   "outputs": [
    {
     "data": {
      "text/plain": [
       "<matplotlib.colorbar.Colorbar at 0x15a32af0>"
      ]
     },
     "execution_count": 46,
     "metadata": {},
     "output_type": "execute_result"
    },
    {
     "data": {
      "image/png": "[encoded data removed]",
      "text/plain": [
       "<Figure size 432x288 with 2 Axes>"
      ]
     },
     "metadata": {
      "needs_background": "light"
     },
     "output_type": "display_data"
    }
   ],
   "source": [
    "plt.imshow(p)\n",
    "plt.colorbar()"
   ]
  },
  {
   "cell_type": "code",
   "execution_count": 47,
   "metadata": {},
   "outputs": [
    {
     "data": {
      "text/plain": [
       "Text(0.5,1,'sin(x) + sin(y)')"
      ]
     },
     "execution_count": 47,
     "metadata": {},
     "output_type": "execute_result"
    },
    {
     "data": {
      "image/png": "[encoded data removed]",
      "text/plain": [
       "<Figure size 432x288 with 2 Axes>"
      ]
     },
     "metadata": {
      "needs_background": "light"
     },
     "output_type": "display_data"
    }
   ],
   "source": [
    "s = ( np.sin(dx) + np.sin(dy) )\n",
    "plt.imshow(s)\n",
    "plt.colorbar()\n",
    "plt.title('sin(x) + sin(y)')"
   ]
  },
  {
   "cell_type": "code",
   "execution_count": 55,
   "metadata": {},
   "outputs": [],
   "source": [
    "selectA = np.arange(1, 11)\n",
    "selectA\n"
   ]
  },
  {
   "cell_type": "code",
   "execution_count": 58,
   "metadata": {},
   "outputs": [
    {
     "data": {
      "text/plain": [
       "array([201, 202, 203, 204, 205, 206, 207, 208, 209, 210])"
      ]
     },
     "execution_count": 58,
     "metadata": {},
     "output_type": "execute_result"
    }
   ],
   "source": [
    "selectB = np.arange(201,211)\n",
    "selectB"
   ]
  },
  {
   "cell_type": "code",
   "execution_count": null,
   "metadata": {},
   "outputs": [],
   "source": [
    "cond = np.array([False, True, True, False, False, True, False, True, False, True])"
   ]
  },
  {
   "cell_type": "code",
   "execution_count": 59,
   "metadata": {},
   "outputs": [
    {
     "data": {
      "text/plain": [
       "array([201,   2,   3, 204, 205,   6, 207,   8, 209,  10])"
      ]
     },
     "execution_count": 59,
     "metadata": {},
     "output_type": "execute_result"
    }
   ],
   "source": [
    "# we should have same length or dimention for the cond, selectA, and selectB\n",
    "answer = np.where(cond, selectA, selectB)\n",
    "answer"
   ]
  },
  {
   "cell_type": "code",
   "execution_count": 68,
   "metadata": {},
   "outputs": [
    {
     "data": {
      "text/plain": [
       "array([[-2.20764564e-01, -3.43207476e-01,  1.14640617e+00,\n",
       "        -7.99421813e-01, -1.60399177e+00,  1.22389753e+00,\n",
       "        -1.05056477e+00,  5.62607237e-01, -2.70917096e-01,\n",
       "         3.61255299e-01],\n",
       "       [-1.34827760e-01,  2.51628306e-01, -9.25766574e-01,\n",
       "         1.23896027e+00,  6.11200489e-01, -5.77724077e-01,\n",
       "         1.19171866e+00, -1.65083520e+00, -5.06794619e-01,\n",
       "         4.67919361e-01],\n",
       "       [-2.04975683e+00,  3.36808269e-01, -9.31074703e-03,\n",
       "        -3.67266922e-01, -3.26149296e-01,  3.48053472e-01,\n",
       "        -6.12053940e-01,  3.97809677e-01,  7.20241695e-01,\n",
       "         4.54202450e-01],\n",
       "       [ 4.62280401e-01, -1.16702025e+00,  2.58688549e+00,\n",
       "        -3.86849619e-01, -1.16094420e+00, -1.14298870e-01,\n",
       "         1.22528878e+00,  3.84752621e-02, -1.58396006e+00,\n",
       "         1.21082504e+00],\n",
       "       [ 2.41937895e-01, -7.74757131e-01, -1.14793268e-01,\n",
       "        -4.62127272e-01,  5.99785218e-01,  1.18168829e+00,\n",
       "        -2.42553266e-01,  8.03540790e-02, -1.60244913e+00,\n",
       "         1.31777892e+00],\n",
       "       [ 1.89028975e+00,  8.19318779e-02, -5.67116081e-01,\n",
       "         8.86721319e-01,  1.00711704e-01,  2.92604493e+00,\n",
       "        -8.63804315e-02,  1.39591555e+00, -3.03729682e+00,\n",
       "         5.24312475e-01],\n",
       "       [ 2.62280889e-01, -2.11981860e+00,  2.16268634e-01,\n",
       "         4.34387201e-01, -1.47330422e+00,  1.85076807e+00,\n",
       "         6.33345163e-01, -1.13356966e-01, -5.77788854e-01,\n",
       "        -1.37784361e+00],\n",
       "       [-4.35528886e-01,  8.03766173e-01,  1.81614318e+00,\n",
       "        -2.37010397e-01,  1.38471852e+00, -6.55781447e-01,\n",
       "         1.60738642e+00,  1.05095281e+00, -2.51372105e-03,\n",
       "        -4.44255922e-01],\n",
       "       [ 6.69608396e-01,  1.04484647e+00,  9.38763739e-01,\n",
       "        -2.13891311e-01,  1.66787586e-01,  3.08353532e-01,\n",
       "         1.24336480e+00, -1.18561948e+00, -6.19393125e-01,\n",
       "        -9.93887244e-01],\n",
       "       [ 4.34041933e-01, -2.81032822e-01, -3.80311244e-01,\n",
       "        -1.08255508e+00, -8.48784783e-01,  8.69972142e-01,\n",
       "         7.93804575e-01,  9.27064178e-01,  1.63892540e+00,\n",
       "        -1.32260644e+00]])"
      ]
     },
     "execution_count": 68,
     "metadata": {},
     "output_type": "execute_result"
    }
   ],
   "source": [
    "#lets create a random matrix \n",
    "r = np.random.randn(10,10)\n",
    "r"
   ]
  },
  {
   "cell_type": "code",
   "execution_count": 69,
   "metadata": {},
   "outputs": [
    {
     "data": {
      "text/plain": [
       "array([[1.        , 1.        , 1.14640617, 1.        , 1.        ,\n",
       "        1.22389753, 1.        , 0.56260724, 1.        , 0.3612553 ],\n",
       "       [1.        , 0.25162831, 1.        , 1.23896027, 0.61120049,\n",
       "        1.        , 1.19171866, 1.        , 1.        , 0.46791936],\n",
       "       [1.        , 0.33680827, 1.        , 1.        , 1.        ,\n",
       "        0.34805347, 1.        , 0.39780968, 0.72024169, 0.45420245],\n",
       "       [0.4622804 , 1.        , 2.58688549, 1.        , 1.        ,\n",
       "        1.        , 1.22528878, 0.03847526, 1.        , 1.21082504],\n",
       "       [0.2419379 , 1.        , 1.        , 1.        , 0.59978522,\n",
       "        1.18168829, 1.        , 0.08035408, 1.        , 1.31777892],\n",
       "       [1.89028975, 0.08193188, 1.        , 0.88672132, 0.1007117 ,\n",
       "        2.92604493, 1.        , 1.39591555, 1.        , 0.52431248],\n",
       "       [0.26228089, 1.        , 0.21626863, 0.4343872 , 1.        ,\n",
       "        1.85076807, 0.63334516, 1.        , 1.        , 1.        ],\n",
       "       [1.        , 0.80376617, 1.81614318, 1.        , 1.38471852,\n",
       "        1.        , 1.60738642, 1.05095281, 1.        , 1.        ],\n",
       "       [0.6696084 , 1.04484647, 0.93876374, 1.        , 0.16678759,\n",
       "        0.30835353, 1.2433648 , 1.        , 1.        , 1.        ],\n",
       "       [0.43404193, 1.        , 1.        , 1.        , 1.        ,\n",
       "        0.86997214, 0.79380457, 0.92706418, 1.6389254 , 1.        ]])"
      ]
     },
     "execution_count": 69,
     "metadata": {},
     "output_type": "execute_result"
    }
   ],
   "source": [
    "ra = np.where(r<0, 1, r)\n",
    "ra"
   ]
  },
  {
   "cell_type": "code",
   "execution_count": null,
   "metadata": {},
   "outputs": [],
   "source": []
  }
 ],
 "metadata": {
  "kernelspec": {
   "display_name": "Python 3",
   "language": "python",
   "name": "python3"
  },
  "language_info": {
   "codemirror_mode": {
    "name": "ipython",
    "version": 3
   },
   "file_extension": ".py",
   "mimetype": "text/x-python",
   "name": "python",
   "nbconvert_exporter": "python",
   "pygments_lexer": "ipython3",
   "version": "3.6.5"
  }
 },
 "nbformat": 4,
 "nbformat_minor": 4
}
